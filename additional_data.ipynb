{
 "cells": [
  {
   "attachments": {},
   "cell_type": "markdown",
   "metadata": {},
   "source": [
    "In addition to the TRACERx data, during the workshop we also encourage you to explore external data that may be useful for the task assigned. [cBioPortal](https://www.cbioportal.org/) is a resource that can be used to explore and download cancer genomics datasets. It contains data from multiple cancer studies, and provides a user friendly interface to easily gain insights from the selected datasets. Among the data that can be explored there are mutated driver genes, Copy Number Alterations and clinical features. \n",
    "We suggest to explore two studies: [MSK-IMPACT](https://www.cbioportal.org/study/summary?id=msk_impact_2017), which is a collection of 10000 clinical cases, and the [MSK-IMPACT-MET](https://www.cbioportal.org/study/summary?id=mixed_impact_subset_2022), which is a pan cancer collection of 69 metastatic cases. \n",
    "\n",
    "The interface enables to stratify samples according to driver mutations, cancer type, clinical features, sample coverage, etc., to explore the corresponding data grouped according to the selected feature.\n",
    "\n",
    "The portal has a collection of exhaustive tutorials, and we suggest to take a thorough look at them to familiarise with the portal and practice how to access and explore the data. The tutorials can be found [here](https://docs.cbioportal.org/user-guide/overview/). We suggest to familiarise with the guide on single study [exploration](https://raw.githubusercontent.com/cBioPortal/cbioportal/master/docs/tutorials/cBioPortal%20Tutorial%201%20Single%20Study%20Exploration.pdf) and [query](https://raw.githubusercontent.com/cBioPortal/cbioportal/master/docs/tutorials/cBioPortal%20Tutorial%202%20Single%20Study%20Query.pdf), which are useful to understand how to include additional analyses for the purpose of this workshop."
   ]
  },
  {
   "cell_type": "markdown",
   "metadata": {},
   "source": []
  }
 ],
 "metadata": {
  "kernelspec": {
   "display_name": "R",
   "language": "R",
   "name": "ir"
  },
  "language_info": {
   "codemirror_mode": "r",
   "file_extension": ".r",
   "mimetype": "text/x-r-source",
   "name": "R",
   "pygments_lexer": "r",
   "version": "4.1.0"
  }
 },
 "nbformat": 4,
 "nbformat_minor": 2
}
