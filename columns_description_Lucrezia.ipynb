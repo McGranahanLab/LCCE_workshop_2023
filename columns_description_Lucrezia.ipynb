{
 "cells": [
  {
   "cell_type": "code",
   "execution_count": 5,
   "metadata": {
    "vscode": {
     "languageId": "r"
    }
   },
   "outputs": [
    {
     "name": "stderr",
     "output_type": "stream",
     "text": [
      "\n",
      "Caricamento pacchetto: 'dplyr'\n",
      "\n",
      "\n",
      "I seguenti oggetti sono mascherati da 'package:stats':\n",
      "\n",
      "    filter, lag\n",
      "\n",
      "\n",
      "I seguenti oggetti sono mascherati da 'package:base':\n",
      "\n",
      "    intersect, setdiff, setequal, union\n",
      "\n",
      "\n"
     ]
    }
   ],
   "source": [
    "library(fst)\n",
    "library(dplyr)\n",
    "library(ggplot2)\n",
    "setwd('D:/googleDrive/postdoc/')\n"
   ]
  },
  {
   "cell_type": "markdown",
   "metadata": {},
   "source": [
    "## SCNA table\n",
    "TRACERx cohort consists of 421 patients, from which a total of 1644 tumor regions were sampled and subjected to whole-exome sequencing. Out of all these samples, there were only 401 tumors for which it was possible to reconstruct phylogenetic trees (only tumors where the purity was sufficient to determine copy number states in at least two regions were retained), for a total of 1428 regions.\n",
    "\n",
    "This table contains the information about SCNA detected in each tumor sample corresponding to a specific region, inferred from *WES* data. "
   ]
  },
  {
   "cell_type": "code",
   "execution_count": 6,
   "metadata": {
    "vscode": {
     "languageId": "r"
    }
   },
   "outputs": [
    {
     "data": {
      "text/html": [
       "<table class=\"dataframe\">\n",
       "<caption>A data.frame: 6 × 17</caption>\n",
       "<thead>\n",
       "\t<tr><th></th><th scope=col>patient_id</th><th scope=col>tumour_id</th><th scope=col>sample</th><th scope=col>chr</th><th scope=col>startpos</th><th scope=col>endpos</th><th scope=col>n.het</th><th scope=col>cnTotal</th><th scope=col>nMajor</th><th scope=col>nMinor</th><th scope=col>Ploidy</th><th scope=col>ACF</th><th scope=col>nAraw</th><th scope=col>nBraw</th><th scope=col>cpn_event_vs_ploidy</th><th scope=col>MSAI</th><th scope=col>samp_used_to_phase</th></tr>\n",
       "\t<tr><th></th><th scope=col>&lt;chr&gt;</th><th scope=col>&lt;chr&gt;</th><th scope=col>&lt;chr&gt;</th><th scope=col>&lt;int&gt;</th><th scope=col>&lt;int&gt;</th><th scope=col>&lt;int&gt;</th><th scope=col>&lt;int&gt;</th><th scope=col>&lt;int&gt;</th><th scope=col>&lt;int&gt;</th><th scope=col>&lt;int&gt;</th><th scope=col>&lt;dbl&gt;</th><th scope=col>&lt;dbl&gt;</th><th scope=col>&lt;dbl&gt;</th><th scope=col>&lt;dbl&gt;</th><th scope=col>&lt;chr&gt;</th><th scope=col>&lt;lgl&gt;</th><th scope=col>&lt;chr&gt;</th></tr>\n",
       "</thead>\n",
       "<tbody>\n",
       "\t<tr><th scope=row>1</th><td>CRUK0005</td><td>CRUK0005</td><td>CRUK0005_SU_T1-R1</td><td>1</td><td>  762273</td><td> 2252860</td><td> 73</td><td>3</td><td>2</td><td>1</td><td>3.131282</td><td>0.15</td><td>2.463756</td><td>1.1847605</td><td>neutral</td><td>FALSE</td><td>CRUK0005_SU_T1-R2               </td></tr>\n",
       "\t<tr><th scope=row>2</th><td>CRUK0005</td><td>CRUK0005</td><td>CRUK0005_SU_T1-R1</td><td>1</td><td> 2252970</td><td> 2527412</td><td> 26</td><td>2</td><td>2</td><td>0</td><td>3.131282</td><td>0.15</td><td>1.645818</td><td>0.2840012</td><td>neutral</td><td>FALSE</td><td>CRUK0005_SU_T1-R2               </td></tr>\n",
       "\t<tr><th scope=row>3</th><td>CRUK0005</td><td>CRUK0005</td><td>CRUK0005_SU_T1-R1</td><td>1</td><td> 2527437</td><td> 2700215</td><td> 12</td><td>3</td><td>2</td><td>1</td><td>3.131282</td><td>0.15</td><td>2.187291</td><td>0.9560660</td><td>neutral</td><td>FALSE</td><td>CRUK0005_SU_T1-R3               </td></tr>\n",
       "\t<tr><th scope=row>4</th><td>CRUK0005</td><td>CRUK0005</td><td>CRUK0005_SU_T1-R1</td><td>1</td><td> 2700332</td><td>28531815</td><td>600</td><td>3</td><td>2</td><td>1</td><td>3.131282</td><td>0.15</td><td>1.725844</td><td>0.7082896</td><td>neutral</td><td>FALSE</td><td>CRUK0005_SU_T1-R2               </td></tr>\n",
       "\t<tr><th scope=row>5</th><td>CRUK0005</td><td>CRUK0005</td><td>CRUK0005_SU_T1-R1</td><td>1</td><td>28534782</td><td>29649999</td><td> 11</td><td>3</td><td>2</td><td>1</td><td>3.131282</td><td>0.15</td><td>1.711109</td><td>0.6956101</td><td>neutral</td><td>FALSE</td><td>CRUK0005_SU_T1-R2               </td></tr>\n",
       "\t<tr><th scope=row>6</th><td>CRUK0005</td><td>CRUK0005</td><td>CRUK0005_SU_T1-R1</td><td>1</td><td>29696060</td><td>35442691</td><td> 61</td><td>3</td><td>2</td><td>1</td><td>3.131282</td><td>0.15</td><td>1.534577</td><td>1.4659538</td><td>neutral</td><td>   NA</td><td>none_no_allelic_imbalance_called</td></tr>\n",
       "</tbody>\n",
       "</table>\n"
      ],
      "text/latex": [
       "A data.frame: 6 × 17\n",
       "\\begin{tabular}{r|lllllllllllllllll}\n",
       "  & patient\\_id & tumour\\_id & sample & chr & startpos & endpos & n.het & cnTotal & nMajor & nMinor & Ploidy & ACF & nAraw & nBraw & cpn\\_event\\_vs\\_ploidy & MSAI & samp\\_used\\_to\\_phase\\\\\n",
       "  & <chr> & <chr> & <chr> & <int> & <int> & <int> & <int> & <int> & <int> & <int> & <dbl> & <dbl> & <dbl> & <dbl> & <chr> & <lgl> & <chr>\\\\\n",
       "\\hline\n",
       "\t1 & CRUK0005 & CRUK0005 & CRUK0005\\_SU\\_T1-R1 & 1 &   762273 &  2252860 &  73 & 3 & 2 & 1 & 3.131282 & 0.15 & 2.463756 & 1.1847605 & neutral & FALSE & CRUK0005\\_SU\\_T1-R2               \\\\\n",
       "\t2 & CRUK0005 & CRUK0005 & CRUK0005\\_SU\\_T1-R1 & 1 &  2252970 &  2527412 &  26 & 2 & 2 & 0 & 3.131282 & 0.15 & 1.645818 & 0.2840012 & neutral & FALSE & CRUK0005\\_SU\\_T1-R2               \\\\\n",
       "\t3 & CRUK0005 & CRUK0005 & CRUK0005\\_SU\\_T1-R1 & 1 &  2527437 &  2700215 &  12 & 3 & 2 & 1 & 3.131282 & 0.15 & 2.187291 & 0.9560660 & neutral & FALSE & CRUK0005\\_SU\\_T1-R3               \\\\\n",
       "\t4 & CRUK0005 & CRUK0005 & CRUK0005\\_SU\\_T1-R1 & 1 &  2700332 & 28531815 & 600 & 3 & 2 & 1 & 3.131282 & 0.15 & 1.725844 & 0.7082896 & neutral & FALSE & CRUK0005\\_SU\\_T1-R2               \\\\\n",
       "\t5 & CRUK0005 & CRUK0005 & CRUK0005\\_SU\\_T1-R1 & 1 & 28534782 & 29649999 &  11 & 3 & 2 & 1 & 3.131282 & 0.15 & 1.711109 & 0.6956101 & neutral & FALSE & CRUK0005\\_SU\\_T1-R2               \\\\\n",
       "\t6 & CRUK0005 & CRUK0005 & CRUK0005\\_SU\\_T1-R1 & 1 & 29696060 & 35442691 &  61 & 3 & 2 & 1 & 3.131282 & 0.15 & 1.534577 & 1.4659538 & neutral &    NA & none\\_no\\_allelic\\_imbalance\\_called\\\\\n",
       "\\end{tabular}\n"
      ],
      "text/markdown": [
       "\n",
       "A data.frame: 6 × 17\n",
       "\n",
       "| <!--/--> | patient_id &lt;chr&gt; | tumour_id &lt;chr&gt; | sample &lt;chr&gt; | chr &lt;int&gt; | startpos &lt;int&gt; | endpos &lt;int&gt; | n.het &lt;int&gt; | cnTotal &lt;int&gt; | nMajor &lt;int&gt; | nMinor &lt;int&gt; | Ploidy &lt;dbl&gt; | ACF &lt;dbl&gt; | nAraw &lt;dbl&gt; | nBraw &lt;dbl&gt; | cpn_event_vs_ploidy &lt;chr&gt; | MSAI &lt;lgl&gt; | samp_used_to_phase &lt;chr&gt; |\n",
       "|---|---|---|---|---|---|---|---|---|---|---|---|---|---|---|---|---|---|\n",
       "| 1 | CRUK0005 | CRUK0005 | CRUK0005_SU_T1-R1 | 1 |   762273 |  2252860 |  73 | 3 | 2 | 1 | 3.131282 | 0.15 | 2.463756 | 1.1847605 | neutral | FALSE | CRUK0005_SU_T1-R2                |\n",
       "| 2 | CRUK0005 | CRUK0005 | CRUK0005_SU_T1-R1 | 1 |  2252970 |  2527412 |  26 | 2 | 2 | 0 | 3.131282 | 0.15 | 1.645818 | 0.2840012 | neutral | FALSE | CRUK0005_SU_T1-R2                |\n",
       "| 3 | CRUK0005 | CRUK0005 | CRUK0005_SU_T1-R1 | 1 |  2527437 |  2700215 |  12 | 3 | 2 | 1 | 3.131282 | 0.15 | 2.187291 | 0.9560660 | neutral | FALSE | CRUK0005_SU_T1-R3                |\n",
       "| 4 | CRUK0005 | CRUK0005 | CRUK0005_SU_T1-R1 | 1 |  2700332 | 28531815 | 600 | 3 | 2 | 1 | 3.131282 | 0.15 | 1.725844 | 0.7082896 | neutral | FALSE | CRUK0005_SU_T1-R2                |\n",
       "| 5 | CRUK0005 | CRUK0005 | CRUK0005_SU_T1-R1 | 1 | 28534782 | 29649999 |  11 | 3 | 2 | 1 | 3.131282 | 0.15 | 1.711109 | 0.6956101 | neutral | FALSE | CRUK0005_SU_T1-R2                |\n",
       "| 6 | CRUK0005 | CRUK0005 | CRUK0005_SU_T1-R1 | 1 | 29696060 | 35442691 |  61 | 3 | 2 | 1 | 3.131282 | 0.15 | 1.534577 | 1.4659538 | neutral |    NA | none_no_allelic_imbalance_called |\n",
       "\n"
      ],
      "text/plain": [
       "  patient_id tumour_id sample            chr startpos endpos   n.het cnTotal\n",
       "1 CRUK0005   CRUK0005  CRUK0005_SU_T1-R1 1     762273  2252860  73   3      \n",
       "2 CRUK0005   CRUK0005  CRUK0005_SU_T1-R1 1    2252970  2527412  26   2      \n",
       "3 CRUK0005   CRUK0005  CRUK0005_SU_T1-R1 1    2527437  2700215  12   3      \n",
       "4 CRUK0005   CRUK0005  CRUK0005_SU_T1-R1 1    2700332 28531815 600   3      \n",
       "5 CRUK0005   CRUK0005  CRUK0005_SU_T1-R1 1   28534782 29649999  11   3      \n",
       "6 CRUK0005   CRUK0005  CRUK0005_SU_T1-R1 1   29696060 35442691  61   3      \n",
       "  nMajor nMinor Ploidy   ACF  nAraw    nBraw     cpn_event_vs_ploidy MSAI \n",
       "1 2      1      3.131282 0.15 2.463756 1.1847605 neutral             FALSE\n",
       "2 2      0      3.131282 0.15 1.645818 0.2840012 neutral             FALSE\n",
       "3 2      1      3.131282 0.15 2.187291 0.9560660 neutral             FALSE\n",
       "4 2      1      3.131282 0.15 1.725844 0.7082896 neutral             FALSE\n",
       "5 2      1      3.131282 0.15 1.711109 0.6956101 neutral             FALSE\n",
       "6 2      1      3.131282 0.15 1.534577 1.4659538 neutral                NA\n",
       "  samp_used_to_phase              \n",
       "1 CRUK0005_SU_T1-R2               \n",
       "2 CRUK0005_SU_T1-R2               \n",
       "3 CRUK0005_SU_T1-R3               \n",
       "4 CRUK0005_SU_T1-R2               \n",
       "5 CRUK0005_SU_T1-R2               \n",
       "6 none_no_allelic_imbalance_called"
      ]
     },
     "metadata": {},
     "output_type": "display_data"
    }
   ],
   "source": [
    "cna_table = read_fst('tracerx_data/figurecode/data/20221109_TRACERx421_scna_table.fst')\n",
    "head(cna_table)\n"
   ]
  },
  {
   "cell_type": "markdown",
   "metadata": {},
   "source": [
    "The columns are the following:\n",
    "* `patient_id` : patient identifier\n",
    "* `tumour_id` : tumor identifier\n",
    "* `sample` Sample identfier. Example: CRUK0000_SU_T1-R1 stands for the sample of patient identifier CRUK0000 that was taken from region 1 (R1) of tumour 1 (T1), which was resected during primary surgery (SU).\n",
    "* `chr` - `startpos` - `endpos`: coordinates of the copy number segment.\n",
    "* `n.het` : number of heterozygous SNPs called on the segment.\n",
    "* `cnTotal` : segment total copy number (ASCAT)\n",
    "* `nMajor` : copy number of the major allele (ASCAT) (?)\n",
    "* `nMinor` : copy number of the minor allele (ASCAT) (?)\n",
    "* `Ploidy` : ploidy value of the sample (ASCAT) \n",
    "* `ACF` : Aberrant Cell Fraction (fraction of tumor cells in the sample) (ASCAT)\n",
    "* `nAraw` : raw Allele specific copy number for the A-allele (ASCAT)\n",
    "* `nBraw` : raw Allele specific copy number for the B-allele (ASCAT)\n",
    "* `cpn_event_vs_ploidy` : copy number status with respect to the sample ploidy. It is a string whose value can be one of `c(`neutral`, 'gain', 'amp', 'loss', 'deep_loss')` E.g., if ploidy is 3 and cnTotal is 3, `cpn_event_vs_ploidy` will be `'neutral'`. If ploidy is 3 and cnTotal is 4, then `cpn_event_vs_ploidy` will be `'gain'`.\n",
    "* `MSAI` : Mirrored Subclonal Allelic Imbalance. Logical indicating whether the corresponding allele specific copy number event corresponds to a mirrored subclonal allelic imbalance.\n",
    "* `samp_used_to_phase` : ID of the sample whose allelic imbalance data was used to phase SNPs and estimate haplotype specific copy number profiles. ?: was this the result of the re-run with Refphase?"
   ]
  },
  {
   "cell_type": "markdown",
   "metadata": {},
   "source": [
    "## Pathology and clinical data\n",
    "TRACERx cohort consists of 421 patients, harbouring 432 genomically independent tumors. Each line in this dataframe corresponds to one of these tumours, reporting clinical data and histological features."
   ]
  },
  {
   "cell_type": "code",
   "execution_count": 7,
   "metadata": {
    "vscode": {
     "languageId": "r"
    }
   },
   "outputs": [
    {
     "data": {
      "text/html": [
       "<table class=\"dataframe\">\n",
       "<caption>A data.table: 6 × 20</caption>\n",
       "<thead>\n",
       "\t<tr><th scope=col>tumour_id_muttable_cruk</th><th scope=col>cruk_id</th><th scope=col>clinical_sex</th><th scope=col>age</th><th scope=col>ethnicity</th><th scope=col>Histology_per_tumour_id_muttable</th><th scope=col>histology_3</th><th scope=col>LUAD_pred_subtype_with.IMA_per_tumour</th><th scope=col>site_per_lesion</th><th scope=col>pT_stage_per_lesion</th><th scope=col>pN_stage_per_lesion</th><th scope=col>size_pathology_per_lesion</th><th scope=col>vascular_invasion_per_lesion</th><th scope=col>pleural_invasion_per_lesion</th><th scope=col>smoking_status_merged</th><th scope=col>cigs_perday</th><th scope=col>years_smoking</th><th scope=col>pack_years</th><th scope=col>is.family.lung</th><th scope=col>pathologyTNM</th></tr>\n",
       "\t<tr><th scope=col>&lt;chr&gt;</th><th scope=col>&lt;chr&gt;</th><th scope=col>&lt;chr&gt;</th><th scope=col>&lt;int&gt;</th><th scope=col>&lt;chr&gt;</th><th scope=col>&lt;chr&gt;</th><th scope=col>&lt;fct&gt;</th><th scope=col>&lt;chr&gt;</th><th scope=col>&lt;chr&gt;</th><th scope=col>&lt;chr&gt;</th><th scope=col>&lt;int&gt;</th><th scope=col>&lt;int&gt;</th><th scope=col>&lt;chr&gt;</th><th scope=col>&lt;chr&gt;</th><th scope=col>&lt;fct&gt;</th><th scope=col>&lt;dbl&gt;</th><th scope=col>&lt;int&gt;</th><th scope=col>&lt;dbl&gt;</th><th scope=col>&lt;lgl&gt;</th><th scope=col>&lt;chr&gt;</th></tr>\n",
       "</thead>\n",
       "<tbody>\n",
       "\t<tr><td>CRUK0034</td><td>CRUK0034</td><td>Female</td><td>68</td><td>White- Irish  </td><td>Invasive adenocarcinoma</td><td>LUAD </td><td>acinar   </td><td>Right Upper Lobe</td><td>2a</td><td>0</td><td>40</td><td>Yes</td><td>No </td><td>Ex-Smoker</td><td>20.0</td><td>35</td><td> 35.000</td><td> TRUE</td><td>IB </td></tr>\n",
       "\t<tr><td>CRUK0150</td><td>CRUK0150</td><td>Male  </td><td>81</td><td>White- British</td><td>LCNEC                  </td><td>Other</td><td>NA       </td><td>Left Upper Lobe </td><td>3 </td><td>0</td><td>75</td><td>Yes</td><td>No </td><td>Ex-Smoker</td><td>44.5</td><td>49</td><td>109.025</td><td>FALSE</td><td>IIB</td></tr>\n",
       "\t<tr><td>CRUK0159</td><td>CRUK0159</td><td>Male  </td><td>60</td><td>White- British</td><td>Invasive adenocarcinoma</td><td>LUAD </td><td>acinar   </td><td>Right Upper Lobe</td><td>2a</td><td>0</td><td>36</td><td>Yes</td><td>Yes</td><td>Smoker   </td><td>20.0</td><td>38</td><td> 38.000</td><td>FALSE</td><td>IB </td></tr>\n",
       "\t<tr><td>CRUK0090</td><td>CRUK0090</td><td>Male  </td><td>65</td><td>White- British</td><td>Squamous cell carcinoma</td><td>LUSC </td><td>NA       </td><td>Right Upper Lobe</td><td>2a</td><td>1</td><td>35</td><td>Yes</td><td>Yes</td><td>Ex-Smoker</td><td>10.0</td><td>35</td><td> 17.500</td><td>FALSE</td><td>IIA</td></tr>\n",
       "\t<tr><td>CRUK0045</td><td>CRUK0045</td><td>Male  </td><td>85</td><td>White- British</td><td>Invasive adenocarcinoma</td><td>LUAD </td><td>papillary</td><td>Left Lower Lobe </td><td>2a</td><td>0</td><td>48</td><td>Yes</td><td>Yes</td><td>Ex-Smoker</td><td>10.0</td><td>25</td><td> 12.500</td><td>FALSE</td><td>IB </td></tr>\n",
       "\t<tr><td>CRUK0076</td><td>CRUK0076</td><td>Male  </td><td>63</td><td>White- British</td><td>Squamous cell carcinoma</td><td>LUSC </td><td>NA       </td><td>Right Lower Lobe</td><td>2a</td><td>0</td><td>32</td><td>No </td><td>No </td><td>Smoker   </td><td>40.0</td><td>51</td><td>102.000</td><td>FALSE</td><td>IB </td></tr>\n",
       "</tbody>\n",
       "</table>\n"
      ],
      "text/latex": [
       "A data.table: 6 × 20\n",
       "\\begin{tabular}{llllllllllllllllllll}\n",
       " tumour\\_id\\_muttable\\_cruk & cruk\\_id & clinical\\_sex & age & ethnicity & Histology\\_per\\_tumour\\_id\\_muttable & histology\\_3 & LUAD\\_pred\\_subtype\\_with.IMA\\_per\\_tumour & site\\_per\\_lesion & pT\\_stage\\_per\\_lesion & pN\\_stage\\_per\\_lesion & size\\_pathology\\_per\\_lesion & vascular\\_invasion\\_per\\_lesion & pleural\\_invasion\\_per\\_lesion & smoking\\_status\\_merged & cigs\\_perday & years\\_smoking & pack\\_years & is.family.lung & pathologyTNM\\\\\n",
       " <chr> & <chr> & <chr> & <int> & <chr> & <chr> & <fct> & <chr> & <chr> & <chr> & <int> & <int> & <chr> & <chr> & <fct> & <dbl> & <int> & <dbl> & <lgl> & <chr>\\\\\n",
       "\\hline\n",
       "\t CRUK0034 & CRUK0034 & Female & 68 & White- Irish   & Invasive adenocarcinoma & LUAD  & acinar    & Right Upper Lobe & 2a & 0 & 40 & Yes & No  & Ex-Smoker & 20.0 & 35 &  35.000 &  TRUE & IB \\\\\n",
       "\t CRUK0150 & CRUK0150 & Male   & 81 & White- British & LCNEC                   & Other & NA        & Left Upper Lobe  & 3  & 0 & 75 & Yes & No  & Ex-Smoker & 44.5 & 49 & 109.025 & FALSE & IIB\\\\\n",
       "\t CRUK0159 & CRUK0159 & Male   & 60 & White- British & Invasive adenocarcinoma & LUAD  & acinar    & Right Upper Lobe & 2a & 0 & 36 & Yes & Yes & Smoker    & 20.0 & 38 &  38.000 & FALSE & IB \\\\\n",
       "\t CRUK0090 & CRUK0090 & Male   & 65 & White- British & Squamous cell carcinoma & LUSC  & NA        & Right Upper Lobe & 2a & 1 & 35 & Yes & Yes & Ex-Smoker & 10.0 & 35 &  17.500 & FALSE & IIA\\\\\n",
       "\t CRUK0045 & CRUK0045 & Male   & 85 & White- British & Invasive adenocarcinoma & LUAD  & papillary & Left Lower Lobe  & 2a & 0 & 48 & Yes & Yes & Ex-Smoker & 10.0 & 25 &  12.500 & FALSE & IB \\\\\n",
       "\t CRUK0076 & CRUK0076 & Male   & 63 & White- British & Squamous cell carcinoma & LUSC  & NA        & Right Lower Lobe & 2a & 0 & 32 & No  & No  & Smoker    & 40.0 & 51 & 102.000 & FALSE & IB \\\\\n",
       "\\end{tabular}\n"
      ],
      "text/markdown": [
       "\n",
       "A data.table: 6 × 20\n",
       "\n",
       "| tumour_id_muttable_cruk &lt;chr&gt; | cruk_id &lt;chr&gt; | clinical_sex &lt;chr&gt; | age &lt;int&gt; | ethnicity &lt;chr&gt; | Histology_per_tumour_id_muttable &lt;chr&gt; | histology_3 &lt;fct&gt; | LUAD_pred_subtype_with.IMA_per_tumour &lt;chr&gt; | site_per_lesion &lt;chr&gt; | pT_stage_per_lesion &lt;chr&gt; | pN_stage_per_lesion &lt;int&gt; | size_pathology_per_lesion &lt;int&gt; | vascular_invasion_per_lesion &lt;chr&gt; | pleural_invasion_per_lesion &lt;chr&gt; | smoking_status_merged &lt;fct&gt; | cigs_perday &lt;dbl&gt; | years_smoking &lt;int&gt; | pack_years &lt;dbl&gt; | is.family.lung &lt;lgl&gt; | pathologyTNM &lt;chr&gt; |\n",
       "|---|---|---|---|---|---|---|---|---|---|---|---|---|---|---|---|---|---|---|---|\n",
       "| CRUK0034 | CRUK0034 | Female | 68 | White- Irish   | Invasive adenocarcinoma | LUAD  | acinar    | Right Upper Lobe | 2a | 0 | 40 | Yes | No  | Ex-Smoker | 20.0 | 35 |  35.000 |  TRUE | IB  |\n",
       "| CRUK0150 | CRUK0150 | Male   | 81 | White- British | LCNEC                   | Other | NA        | Left Upper Lobe  | 3  | 0 | 75 | Yes | No  | Ex-Smoker | 44.5 | 49 | 109.025 | FALSE | IIB |\n",
       "| CRUK0159 | CRUK0159 | Male   | 60 | White- British | Invasive adenocarcinoma | LUAD  | acinar    | Right Upper Lobe | 2a | 0 | 36 | Yes | Yes | Smoker    | 20.0 | 38 |  38.000 | FALSE | IB  |\n",
       "| CRUK0090 | CRUK0090 | Male   | 65 | White- British | Squamous cell carcinoma | LUSC  | NA        | Right Upper Lobe | 2a | 1 | 35 | Yes | Yes | Ex-Smoker | 10.0 | 35 |  17.500 | FALSE | IIA |\n",
       "| CRUK0045 | CRUK0045 | Male   | 85 | White- British | Invasive adenocarcinoma | LUAD  | papillary | Left Lower Lobe  | 2a | 0 | 48 | Yes | Yes | Ex-Smoker | 10.0 | 25 |  12.500 | FALSE | IB  |\n",
       "| CRUK0076 | CRUK0076 | Male   | 63 | White- British | Squamous cell carcinoma | LUSC  | NA        | Right Lower Lobe | 2a | 0 | 32 | No  | No  | Smoker    | 40.0 | 51 | 102.000 | FALSE | IB  |\n",
       "\n"
      ],
      "text/plain": [
       "  tumour_id_muttable_cruk cruk_id  clinical_sex age ethnicity     \n",
       "1 CRUK0034                CRUK0034 Female       68  White- Irish  \n",
       "2 CRUK0150                CRUK0150 Male         81  White- British\n",
       "3 CRUK0159                CRUK0159 Male         60  White- British\n",
       "4 CRUK0090                CRUK0090 Male         65  White- British\n",
       "5 CRUK0045                CRUK0045 Male         85  White- British\n",
       "6 CRUK0076                CRUK0076 Male         63  White- British\n",
       "  Histology_per_tumour_id_muttable histology_3\n",
       "1 Invasive adenocarcinoma          LUAD       \n",
       "2 LCNEC                            Other      \n",
       "3 Invasive adenocarcinoma          LUAD       \n",
       "4 Squamous cell carcinoma          LUSC       \n",
       "5 Invasive adenocarcinoma          LUAD       \n",
       "6 Squamous cell carcinoma          LUSC       \n",
       "  LUAD_pred_subtype_with.IMA_per_tumour site_per_lesion  pT_stage_per_lesion\n",
       "1 acinar                                Right Upper Lobe 2a                 \n",
       "2 NA                                    Left Upper Lobe  3                  \n",
       "3 acinar                                Right Upper Lobe 2a                 \n",
       "4 NA                                    Right Upper Lobe 2a                 \n",
       "5 papillary                             Left Lower Lobe  2a                 \n",
       "6 NA                                    Right Lower Lobe 2a                 \n",
       "  pN_stage_per_lesion size_pathology_per_lesion vascular_invasion_per_lesion\n",
       "1 0                   40                        Yes                         \n",
       "2 0                   75                        Yes                         \n",
       "3 0                   36                        Yes                         \n",
       "4 1                   35                        Yes                         \n",
       "5 0                   48                        Yes                         \n",
       "6 0                   32                        No                          \n",
       "  pleural_invasion_per_lesion smoking_status_merged cigs_perday years_smoking\n",
       "1 No                          Ex-Smoker             20.0        35           \n",
       "2 No                          Ex-Smoker             44.5        49           \n",
       "3 Yes                         Smoker                20.0        38           \n",
       "4 Yes                         Ex-Smoker             10.0        35           \n",
       "5 Yes                         Ex-Smoker             10.0        25           \n",
       "6 No                          Smoker                40.0        51           \n",
       "  pack_years is.family.lung pathologyTNM\n",
       "1  35.000     TRUE          IB          \n",
       "2 109.025    FALSE          IIB         \n",
       "3  38.000    FALSE          IB          \n",
       "4  17.500    FALSE          IIA         \n",
       "5  12.500    FALSE          IB          \n",
       "6 102.000    FALSE          IB          "
      ]
     },
     "metadata": {},
     "output_type": "display_data"
    }
   ],
   "source": [
    "tumor_df = readRDS('tracerx_data/figurecode/data/20221109_TRACERx421_all_tumour_df.rds')\n",
    "head(tumor_df)"
   ]
  },
  {
   "cell_type": "markdown",
   "metadata": {},
   "source": [
    "The columns in the dataframe are the following:\n",
    "* `tumour_id_muttable_cruk` : ID of the tumor sample\n",
    "* `cruk_id` : ID of the tumor sample (same information as the previous column)\n",
    "* `clinical_sex`: patient sex\n",
    "* `age` : patient age\n",
    "* `ethnicity` : patient ethnicity. It is one of: `c('White- Irish', 'White- British', 'Caribbean', 'Black', 'White and Asian', 'White-European', 'White- Other', 'South American','Indian', 'Middle eastern', 'White and Black')`\n"
   ]
  },
  {
   "cell_type": "code",
   "execution_count": 8,
   "metadata": {
    "vscode": {
     "languageId": "r"
    }
   },
   "outputs": [
    {
     "data": {
      "image/png": "[encoded data removed]",
      "text/plain": [
       "plot without title"
      ]
     },
     "metadata": {
      "image/png": {
       "height": 420,
       "width": 420
      }
     },
     "output_type": "display_data"
    }
   ],
   "source": [
    "ggplot(data = tumor_df,\n",
    "    mapping = aes(x = '\n",
    "* ', fill = ethnicity)) +\n",
    "    geom_bar() + coord_polar(\"y\", start=0) + theme(axis.text = element_blank()) "
   ]
  },
  {
   "cell_type": "markdown",
   "metadata": {},
   "source": [
    "* `Histology_per_tumour_id_muttable` : full name of the tumor sample histological subtype. It's one of: `c('Invasive adenocarcinoma', 'LCNEC', 'Squamous cell carcinoma', 'Pleomorphic carcinoma', 'Adenosquamous carcinoma', 'Carcinosarcoma', 'combined LUAD and LCNEC', 'Large cell carcinoma', 'Collision LUAD and LUSC')`.  There are 248 Invasive Adenocarcinomas, 138 Squamous cell carcinomas and 46 other histological subtypes. The labels are distributed as follows:"
   ]
  },
  {
   "cell_type": "code",
   "execution_count": 9,
   "metadata": {
    "vscode": {
     "languageId": "r"
    }
   },
   "outputs": [
    {
     "data": {
      "image/png": "[encoded data removed]",
      "text/plain": [
       "plot without title"
      ]
     },
     "metadata": {
      "image/png": {
       "height": 420,
       "width": 420
      }
     },
     "output_type": "display_data"
    }
   ],
   "source": [
    "ggplot(data = tumor_df,\n",
    "    mapping = aes(x = Histology_per_tumour_id_muttable , fill = Histology_per_tumour_id_muttable)) +\n",
    "    geom_bar() + # coord_polar(\"y\", start=0) + \n",
    "\ttheme(legend.position = 'none', \n",
    "\t\taxis.text.x = element_text(angle = 90, vjust = 0.5, hjust=1, size = 17), \n",
    "\t\ttext = element_text(size = 15)) "
   ]
  },
  {
   "cell_type": "code",
   "execution_count": 19,
   "metadata": {
    "vscode": {
     "languageId": "r"
    }
   },
   "outputs": [
    {
     "data": {
      "text/html": [
       "<table class=\"dataframe\">\n",
       "<caption>A data.table: 20 × 2</caption>\n",
       "<thead>\n",
       "\t<tr><th scope=col>pN_stage_per_lesion</th><th scope=col>pT_stage_per_lesion</th></tr>\n",
       "\t<tr><th scope=col>&lt;int&gt;</th><th scope=col>&lt;chr&gt;</th></tr>\n",
       "</thead>\n",
       "<tbody>\n",
       "\t<tr><td> 0</td><td>2a</td></tr>\n",
       "\t<tr><td> 0</td><td>3 </td></tr>\n",
       "\t<tr><td> 1</td><td>2a</td></tr>\n",
       "\t<tr><td> 2</td><td>2a</td></tr>\n",
       "\t<tr><td> 0</td><td>2b</td></tr>\n",
       "\t<tr><td> 0</td><td>1b</td></tr>\n",
       "\t<tr><td> 0</td><td>1a</td></tr>\n",
       "\t<tr><td> 2</td><td>2b</td></tr>\n",
       "\t<tr><td> 0</td><td>NA</td></tr>\n",
       "\t<tr><td> 1</td><td>2b</td></tr>\n",
       "\t<tr><td> 2</td><td>4 </td></tr>\n",
       "\t<tr><td> 0</td><td>4 </td></tr>\n",
       "\t<tr><td> 1</td><td>1a</td></tr>\n",
       "\t<tr><td> 2</td><td>3 </td></tr>\n",
       "\t<tr><td> 2</td><td>1b</td></tr>\n",
       "\t<tr><td> 1</td><td>1b</td></tr>\n",
       "\t<tr><td> 1</td><td>3 </td></tr>\n",
       "\t<tr><td> 2</td><td>1a</td></tr>\n",
       "\t<tr><td>NA</td><td>NA</td></tr>\n",
       "\t<tr><td> 1</td><td>4 </td></tr>\n",
       "</tbody>\n",
       "</table>\n"
      ],
      "text/latex": [
       "A data.table: 20 × 2\n",
       "\\begin{tabular}{ll}\n",
       " pN\\_stage\\_per\\_lesion & pT\\_stage\\_per\\_lesion\\\\\n",
       " <int> & <chr>\\\\\n",
       "\\hline\n",
       "\t  0 & 2a\\\\\n",
       "\t  0 & 3 \\\\\n",
       "\t  1 & 2a\\\\\n",
       "\t  2 & 2a\\\\\n",
       "\t  0 & 2b\\\\\n",
       "\t  0 & 1b\\\\\n",
       "\t  0 & 1a\\\\\n",
       "\t  2 & 2b\\\\\n",
       "\t  0 & NA\\\\\n",
       "\t  1 & 2b\\\\\n",
       "\t  2 & 4 \\\\\n",
       "\t  0 & 4 \\\\\n",
       "\t  1 & 1a\\\\\n",
       "\t  2 & 3 \\\\\n",
       "\t  2 & 1b\\\\\n",
       "\t  1 & 1b\\\\\n",
       "\t  1 & 3 \\\\\n",
       "\t  2 & 1a\\\\\n",
       "\t NA & NA\\\\\n",
       "\t  1 & 4 \\\\\n",
       "\\end{tabular}\n"
      ],
      "text/markdown": [
       "\n",
       "A data.table: 20 × 2\n",
       "\n",
       "| pN_stage_per_lesion &lt;int&gt; | pT_stage_per_lesion &lt;chr&gt; |\n",
       "|---|---|\n",
       "|  0 | 2a |\n",
       "|  0 | 3  |\n",
       "|  1 | 2a |\n",
       "|  2 | 2a |\n",
       "|  0 | 2b |\n",
       "|  0 | 1b |\n",
       "|  0 | 1a |\n",
       "|  2 | 2b |\n",
       "|  0 | NA |\n",
       "|  1 | 2b |\n",
       "|  2 | 4  |\n",
       "|  0 | 4  |\n",
       "|  1 | 1a |\n",
       "|  2 | 3  |\n",
       "|  2 | 1b |\n",
       "|  1 | 1b |\n",
       "|  1 | 3  |\n",
       "|  2 | 1a |\n",
       "| NA | NA |\n",
       "|  1 | 4  |\n",
       "\n"
      ],
      "text/plain": [
       "   pN_stage_per_lesion pT_stage_per_lesion\n",
       "1   0                  2a                 \n",
       "2   0                  3                  \n",
       "3   1                  2a                 \n",
       "4   2                  2a                 \n",
       "5   0                  2b                 \n",
       "6   0                  1b                 \n",
       "7   0                  1a                 \n",
       "8   2                  2b                 \n",
       "9   0                  NA                 \n",
       "10  1                  2b                 \n",
       "11  2                  4                  \n",
       "12  0                  4                  \n",
       "13  1                  1a                 \n",
       "14  2                  3                  \n",
       "15  2                  1b                 \n",
       "16  1                  1b                 \n",
       "17  1                  3                  \n",
       "18  2                  1a                 \n",
       "19 NA                  NA                 \n",
       "20  1                  4                  "
      ]
     },
     "metadata": {},
     "output_type": "display_data"
    }
   ],
   "source": [
    "tumor_df %>% select(pN_stage_per_lesion, pT_stage_per_lesion) %>% unique"
   ]
  },
  {
   "cell_type": "markdown",
   "metadata": {},
   "source": [
    "* `histology_3` : for samples that are either `'Invasive adenocarcinoma'` or `'Squamous cell carcinoma'` this column is equal to LUAD and LUSC respectively. For all other histologies, this column contains 'Other'.\n",
    "* `LUAD_pred_subtype_with.IMA_per_tumour`. For LUAD samples, this column contains the tissue architecture growth pattern. Such patterns are inferred from diagnostic H&E slides, and they can be divided in two categories: low-grade (lepidic, mid grade, papillary and acinar) and high-grade (cribriform, micropapillary and solid).\n",
    "* `site_per_lesion` : location of the tumor. It is one of `c('Right Upper Lobe', 'Left Upper Lobe', 'Left Lower Lobe', 'Right Lower Lobe', 'Right Middle Lobe', 'Left Upper lobe')`\n",
    "* `pT_stage_per_lesion` : (?) I don't know what this stands for.\n",
    "* `pN_stage_per_lesion` : (?) I don't know what this stands for. The values are 0, 1 and 2\n",
    "* `size_pathology_per_lesion` : pathological tumor size. (?) how is it calculated? It ranges between 7 and 140\n",
    "* `vascular_invasion_per_lesion` : logical indicating the presence of lymphovascular invasion.\n",
    "* `pleural_invasion_per_lesion` : logical indicating the presence of visceral pleural invasion.\n",
    "* `smoking_status_merged` : smoking status of the patient. Can be `c('Ex-Smoker' 'Smoker' and 'Never Smoked')`\n",
    "* `cigs_perday` : number of cigarettes smoked per day. There are non integer values because some patients smoke cigars or pipes, whose amoiunt was converted to the equivalent in cigarettes counts. One cigar is assumed to be equivalent to approximately 1.5 cigarettes, and for pipes, one bowl of tobacco is equivalent to 2.5 cigarettes, following the table presented [here](http://www.smoking2.nes.scot.nhs.uk/module4/working-out-cigarette-equivalents.html) for conversions.\n",
    "* `years_smoking` : duration fof smoking in terms of years.\n",
    "* `pack_years` : number of cigarettes packs smoked per year.\n",
    "* `is.family.lung` : (?) logical indicating whether there is a history of lung cancer in the family.\n",
    "* `pathologyTNM` : pathological Tumor, Node and Metastasis (TNM) stage (? check I defined it right)\n"
   ]
  },
  {
   "cell_type": "markdown",
   "metadata": {},
   "source": [
    "## Per tumor CNAs"
   ]
  },
  {
   "cell_type": "markdown",
   "metadata": {},
   "source": [
    "This table contains copy number information grouped at the tumor level. For each genomic segment and each tumor, it contains information about whether that segment is involved in a Mirrored Subclonal Allelic Imbalance, and for each tumor it gives the information about the corresponding tumor cluster.\n",
    "\n",
    "(?) In the table there are 403 tumours, but in the main paper it is reported that it was possible to reconstruct a phylogeny for 401 tumours."
   ]
  },
  {
   "cell_type": "code",
   "execution_count": 26,
   "metadata": {
    "vscode": {
     "languageId": "r"
    }
   },
   "outputs": [
    {
     "data": {
      "text/html": [
       "<table class=\"dataframe\">\n",
       "<caption>A data.frame: 6 × 10</caption>\n",
       "<thead>\n",
       "\t<tr><th></th><th scope=col>tumour_id</th><th scope=col>patient_id</th><th scope=col>seg_name</th><th scope=col>chr</th><th scope=col>startpos</th><th scope=col>endpos</th><th scope=col>seg_size</th><th scope=col>pt_seg_parallel_MSAI_gain_or_amp</th><th scope=col>pt_seg_parallel_MSAI_loss_or_LOH</th><th scope=col>Tumour.cluster</th></tr>\n",
       "\t<tr><th></th><th scope=col>&lt;chr&gt;</th><th scope=col>&lt;chr&gt;</th><th scope=col>&lt;chr&gt;</th><th scope=col>&lt;dbl&gt;</th><th scope=col>&lt;dbl&gt;</th><th scope=col>&lt;dbl&gt;</th><th scope=col>&lt;dbl&gt;</th><th scope=col>&lt;chr&gt;</th><th scope=col>&lt;chr&gt;</th><th scope=col>&lt;chr&gt;</th></tr>\n",
       "</thead>\n",
       "<tbody>\n",
       "\t<tr><th scope=row>1</th><td>CRUK0034</td><td>CRUK0034</td><td>1:114967161:121310061</td><td>1</td><td>114967161</td><td>121310061</td><td> 6342900</td><td>FALSE</td><td>FALSE</td><td>NA</td></tr>\n",
       "\t<tr><th scope=row>2</th><td>CRUK0034</td><td>CRUK0034</td><td>1:144854565:144916748</td><td>1</td><td>144854565</td><td>144916748</td><td>   62183</td><td>FALSE</td><td>FALSE</td><td>NA</td></tr>\n",
       "\t<tr><th scope=row>3</th><td>CRUK0034</td><td>CRUK0034</td><td>1:144917546:145096660</td><td>1</td><td>144917546</td><td>145096660</td><td>  179114</td><td>FALSE</td><td>FALSE</td><td>NA</td></tr>\n",
       "\t<tr><th scope=row>4</th><td>CRUK0034</td><td>CRUK0034</td><td>1:145414756:156563855</td><td>1</td><td>145414756</td><td>156563855</td><td>11149099</td><td>FALSE</td><td>FALSE</td><td>NA</td></tr>\n",
       "\t<tr><th scope=row>5</th><td>CRUK0034</td><td>CRUK0034</td><td>1:1469341:2488112    </td><td>1</td><td>  1469341</td><td>  2488112</td><td> 1018771</td><td>FALSE</td><td>FALSE</td><td>NA</td></tr>\n",
       "\t<tr><th scope=row>6</th><td>CRUK0034</td><td>CRUK0034</td><td>1:156564726:161475875</td><td>1</td><td>156564726</td><td>161475875</td><td> 4911149</td><td>FALSE</td><td>FALSE</td><td>NA</td></tr>\n",
       "</tbody>\n",
       "</table>\n"
      ],
      "text/latex": [
       "A data.frame: 6 × 10\n",
       "\\begin{tabular}{r|llllllllll}\n",
       "  & tumour\\_id & patient\\_id & seg\\_name & chr & startpos & endpos & seg\\_size & pt\\_seg\\_parallel\\_MSAI\\_gain\\_or\\_amp & pt\\_seg\\_parallel\\_MSAI\\_loss\\_or\\_LOH & Tumour.cluster\\\\\n",
       "  & <chr> & <chr> & <chr> & <dbl> & <dbl> & <dbl> & <dbl> & <chr> & <chr> & <chr>\\\\\n",
       "\\hline\n",
       "\t1 & CRUK0034 & CRUK0034 & 1:114967161:121310061 & 1 & 114967161 & 121310061 &  6342900 & FALSE & FALSE & NA\\\\\n",
       "\t2 & CRUK0034 & CRUK0034 & 1:144854565:144916748 & 1 & 144854565 & 144916748 &    62183 & FALSE & FALSE & NA\\\\\n",
       "\t3 & CRUK0034 & CRUK0034 & 1:144917546:145096660 & 1 & 144917546 & 145096660 &   179114 & FALSE & FALSE & NA\\\\\n",
       "\t4 & CRUK0034 & CRUK0034 & 1:145414756:156563855 & 1 & 145414756 & 156563855 & 11149099 & FALSE & FALSE & NA\\\\\n",
       "\t5 & CRUK0034 & CRUK0034 & 1:1469341:2488112     & 1 &   1469341 &   2488112 &  1018771 & FALSE & FALSE & NA\\\\\n",
       "\t6 & CRUK0034 & CRUK0034 & 1:156564726:161475875 & 1 & 156564726 & 161475875 &  4911149 & FALSE & FALSE & NA\\\\\n",
       "\\end{tabular}\n"
      ],
      "text/markdown": [
       "\n",
       "A data.frame: 6 × 10\n",
       "\n",
       "| <!--/--> | tumour_id &lt;chr&gt; | patient_id &lt;chr&gt; | seg_name &lt;chr&gt; | chr &lt;dbl&gt; | startpos &lt;dbl&gt; | endpos &lt;dbl&gt; | seg_size &lt;dbl&gt; | pt_seg_parallel_MSAI_gain_or_amp &lt;chr&gt; | pt_seg_parallel_MSAI_loss_or_LOH &lt;chr&gt; | Tumour.cluster &lt;chr&gt; |\n",
       "|---|---|---|---|---|---|---|---|---|---|---|\n",
       "| 1 | CRUK0034 | CRUK0034 | 1:114967161:121310061 | 1 | 114967161 | 121310061 |  6342900 | FALSE | FALSE | NA |\n",
       "| 2 | CRUK0034 | CRUK0034 | 1:144854565:144916748 | 1 | 144854565 | 144916748 |    62183 | FALSE | FALSE | NA |\n",
       "| 3 | CRUK0034 | CRUK0034 | 1:144917546:145096660 | 1 | 144917546 | 145096660 |   179114 | FALSE | FALSE | NA |\n",
       "| 4 | CRUK0034 | CRUK0034 | 1:145414756:156563855 | 1 | 145414756 | 156563855 | 11149099 | FALSE | FALSE | NA |\n",
       "| 5 | CRUK0034 | CRUK0034 | 1:1469341:2488112     | 1 |   1469341 |   2488112 |  1018771 | FALSE | FALSE | NA |\n",
       "| 6 | CRUK0034 | CRUK0034 | 1:156564726:161475875 | 1 | 156564726 | 161475875 |  4911149 | FALSE | FALSE | NA |\n",
       "\n"
      ],
      "text/plain": [
       "  tumour_id patient_id seg_name              chr startpos  endpos    seg_size\n",
       "1 CRUK0034  CRUK0034   1:114967161:121310061 1   114967161 121310061  6342900\n",
       "2 CRUK0034  CRUK0034   1:144854565:144916748 1   144854565 144916748    62183\n",
       "3 CRUK0034  CRUK0034   1:144917546:145096660 1   144917546 145096660   179114\n",
       "4 CRUK0034  CRUK0034   1:145414756:156563855 1   145414756 156563855 11149099\n",
       "5 CRUK0034  CRUK0034   1:1469341:2488112     1     1469341   2488112  1018771\n",
       "6 CRUK0034  CRUK0034   1:156564726:161475875 1   156564726 161475875  4911149\n",
       "  pt_seg_parallel_MSAI_gain_or_amp pt_seg_parallel_MSAI_loss_or_LOH\n",
       "1 FALSE                            FALSE                           \n",
       "2 FALSE                            FALSE                           \n",
       "3 FALSE                            FALSE                           \n",
       "4 FALSE                            FALSE                           \n",
       "5 FALSE                            FALSE                           \n",
       "6 FALSE                            FALSE                           \n",
       "  Tumour.cluster\n",
       "1 NA            \n",
       "2 NA            \n",
       "3 NA            \n",
       "4 NA            \n",
       "5 NA            \n",
       "6 NA            "
      ]
     },
     "metadata": {},
     "output_type": "display_data"
    }
   ],
   "source": [
    "cna_single_df = read_fst('tracerx_data/figurecode/data/20220823_TRACERx421_scna_table_per_tumour.fst')\n",
    "head(cna_single_df)"
   ]
  },
  {
   "cell_type": "markdown",
   "metadata": {},
   "source": [
    "The columns are the following:\n",
    "* `tumour_id` : ID of the tumor from the TRACERx cohort\n",
    "* `patient_id` : ID of the patient from the TRACERx cohort\n",
    "* `seg_name` : identifier of the segment: chromosome:start:end\n",
    "* `chr` : chromsome of the segment\n",
    "* `startpos` : start position of the segment\n",
    "* `endpos` : end position of the segment\n",
    "* `seg_size` : size of the segment\n",
    "* `pt_seg_parallel_MSAI_gain_or_amp` : whether the segment is affected by a Mirrored subclonal allelic imbalance in the form of a gain or an amplififcation\n",
    "* `pt_seg_parallel_MSAI_loss_or_LOH` : whether the segment is affected by a Mirrored subclonal allelic imbalance in the form of a loss or an loss of heterozygosity\n",
    "* `Tumour.cluster` : identifier of the cluster to which this tumour is assigned.\n",
    " "
   ]
  },
  {
   "cell_type": "code",
   "execution_count": 38,
   "metadata": {
    "vscode": {
     "languageId": "r"
    }
   },
   "outputs": [
    {
     "data": {
      "text/html": [
       "386"
      ],
      "text/latex": [
       "386"
      ],
      "text/markdown": [
       "386"
      ],
      "text/plain": [
       "[1] 386"
      ]
     },
     "metadata": {},
     "output_type": "display_data"
    }
   ],
   "source": [
    "tmp = cna_single_df %>% select(tumour_id, patient_id, Tumour.cluster) %>% unique\n",
    "\n",
    "sum(table(tmp$patient_id) == 1)"
   ]
  },
  {
   "cell_type": "markdown",
   "metadata": {},
   "source": [
    "## Patients data\n",
    "\n",
    "TRACERx cohort consists of 421 patients. Each line in this dataframe corresponds to one of these patients, reporting clinical data."
   ]
  },
  {
   "cell_type": "code",
   "execution_count": 43,
   "metadata": {
    "vscode": {
     "languageId": "r"
    }
   },
   "outputs": [
    {
     "data": {
      "text/html": [
       "<table class=\"dataframe\">\n",
       "<caption>A data.frame: 6 × 50</caption>\n",
       "<thead>\n",
       "\t<tr><th></th><th scope=col>cruk_id</th><th scope=col>tumour_id_muttable_cruk</th><th scope=col>tumour_id_per_patient</th><th scope=col>age</th><th scope=col>sex</th><th scope=col>ethnicity</th><th scope=col>cigs_perday</th><th scope=col>years_smoking</th><th scope=col>packyears</th><th scope=col>smoking_status_merged</th><th scope=col>⋯</th><th scope=col>os_time</th><th scope=col>cens_dfs</th><th scope=col>dfs_time</th><th scope=col>cens_dfs_any_event</th><th scope=col>dfs_time_any_event</th><th scope=col>cens_lung_event</th><th scope=col>lung_event_time</th><th scope=col>Relapse_cat</th><th scope=col>Relapse_cat_new</th><th scope=col>tx100</th></tr>\n",
       "\t<tr><th></th><th scope=col>&lt;chr&gt;</th><th scope=col>&lt;chr&gt;</th><th scope=col>&lt;chr&gt;</th><th scope=col>&lt;int&gt;</th><th scope=col>&lt;chr&gt;</th><th scope=col>&lt;chr&gt;</th><th scope=col>&lt;dbl&gt;</th><th scope=col>&lt;int&gt;</th><th scope=col>&lt;dbl&gt;</th><th scope=col>&lt;fct&gt;</th><th scope=col>⋯</th><th scope=col>&lt;int&gt;</th><th scope=col>&lt;int&gt;</th><th scope=col>&lt;int&gt;</th><th scope=col>&lt;int&gt;</th><th scope=col>&lt;int&gt;</th><th scope=col>&lt;int&gt;</th><th scope=col>&lt;int&gt;</th><th scope=col>&lt;chr&gt;</th><th scope=col>&lt;fct&gt;</th><th scope=col>&lt;lgl&gt;</th></tr>\n",
       "</thead>\n",
       "<tbody>\n",
       "\t<tr><th scope=row>1</th><td>CRUK0034</td><td>CRUK0034</td><td>CRUK0034</td><td>68</td><td>Female</td><td>White- Irish  </td><td>20.0</td><td>35</td><td> 35.000</td><td>Ex-Smoker</td><td>⋯</td><td>1849</td><td>0</td><td>1849</td><td>0</td><td>1849</td><td>0</td><td>1849</td><td>NA                 </td><td>No rec       </td><td> TRUE</td></tr>\n",
       "\t<tr><th scope=row>2</th><td>CRUK0150</td><td>CRUK0150</td><td>CRUK0150</td><td>81</td><td>Male  </td><td>White- British</td><td>44.5</td><td>49</td><td>109.025</td><td>Ex-Smoker</td><td>⋯</td><td>1362</td><td>1</td><td>1362</td><td>1</td><td>1362</td><td>0</td><td>1362</td><td>NA                 </td><td>No rec       </td><td>FALSE</td></tr>\n",
       "\t<tr><th scope=row>3</th><td>CRUK0159</td><td>CRUK0159</td><td>CRUK0159</td><td>60</td><td>Male  </td><td>White- British</td><td>20.0</td><td>38</td><td> 38.000</td><td>Smoker   </td><td>⋯</td><td>2224</td><td>1</td><td>2224</td><td>1</td><td>1935</td><td>0</td><td>2224</td><td>Second primary lung</td><td>No rec       </td><td>FALSE</td></tr>\n",
       "\t<tr><th scope=row>4</th><td>CRUK0090</td><td>CRUK0090</td><td>CRUK0090</td><td>65</td><td>Male  </td><td>White- British</td><td>10.0</td><td>35</td><td> 17.500</td><td>Ex-Smoker</td><td>⋯</td><td>2365</td><td>1</td><td>1143</td><td>1</td><td>1143</td><td>1</td><td>1143</td><td>Intrathoracic      </td><td>Intrathoracic</td><td> TRUE</td></tr>\n",
       "\t<tr><th scope=row>5</th><td>CRUK0045</td><td>CRUK0045</td><td>CRUK0045</td><td>85</td><td>Male  </td><td>White- British</td><td>10.0</td><td>25</td><td> 12.500</td><td>Ex-Smoker</td><td>⋯</td><td> 986</td><td>1</td><td> 917</td><td>1</td><td> 917</td><td>1</td><td> 917</td><td>Intrathoracic      </td><td>Intrathoracic</td><td> TRUE</td></tr>\n",
       "\t<tr><th scope=row>6</th><td>CRUK0076</td><td>CRUK0076</td><td>CRUK0076</td><td>63</td><td>Male  </td><td>White- British</td><td>40.0</td><td>51</td><td>102.000</td><td>Smoker   </td><td>⋯</td><td>1934</td><td>0</td><td>1934</td><td>0</td><td>1934</td><td>0</td><td>1934</td><td>NA                 </td><td>No rec       </td><td> TRUE</td></tr>\n",
       "</tbody>\n",
       "</table>\n"
      ],
      "text/latex": [
       "A data.frame: 6 × 50\n",
       "\\begin{tabular}{r|lllllllllllllllllllll}\n",
       "  & cruk\\_id & tumour\\_id\\_muttable\\_cruk & tumour\\_id\\_per\\_patient & age & sex & ethnicity & cigs\\_perday & years\\_smoking & packyears & smoking\\_status\\_merged & ⋯ & os\\_time & cens\\_dfs & dfs\\_time & cens\\_dfs\\_any\\_event & dfs\\_time\\_any\\_event & cens\\_lung\\_event & lung\\_event\\_time & Relapse\\_cat & Relapse\\_cat\\_new & tx100\\\\\n",
       "  & <chr> & <chr> & <chr> & <int> & <chr> & <chr> & <dbl> & <int> & <dbl> & <fct> & ⋯ & <int> & <int> & <int> & <int> & <int> & <int> & <int> & <chr> & <fct> & <lgl>\\\\\n",
       "\\hline\n",
       "\t1 & CRUK0034 & CRUK0034 & CRUK0034 & 68 & Female & White- Irish   & 20.0 & 35 &  35.000 & Ex-Smoker & ⋯ & 1849 & 0 & 1849 & 0 & 1849 & 0 & 1849 & NA                  & No rec        &  TRUE\\\\\n",
       "\t2 & CRUK0150 & CRUK0150 & CRUK0150 & 81 & Male   & White- British & 44.5 & 49 & 109.025 & Ex-Smoker & ⋯ & 1362 & 1 & 1362 & 1 & 1362 & 0 & 1362 & NA                  & No rec        & FALSE\\\\\n",
       "\t3 & CRUK0159 & CRUK0159 & CRUK0159 & 60 & Male   & White- British & 20.0 & 38 &  38.000 & Smoker    & ⋯ & 2224 & 1 & 2224 & 1 & 1935 & 0 & 2224 & Second primary lung & No rec        & FALSE\\\\\n",
       "\t4 & CRUK0090 & CRUK0090 & CRUK0090 & 65 & Male   & White- British & 10.0 & 35 &  17.500 & Ex-Smoker & ⋯ & 2365 & 1 & 1143 & 1 & 1143 & 1 & 1143 & Intrathoracic       & Intrathoracic &  TRUE\\\\\n",
       "\t5 & CRUK0045 & CRUK0045 & CRUK0045 & 85 & Male   & White- British & 10.0 & 25 &  12.500 & Ex-Smoker & ⋯ &  986 & 1 &  917 & 1 &  917 & 1 &  917 & Intrathoracic       & Intrathoracic &  TRUE\\\\\n",
       "\t6 & CRUK0076 & CRUK0076 & CRUK0076 & 63 & Male   & White- British & 40.0 & 51 & 102.000 & Smoker    & ⋯ & 1934 & 0 & 1934 & 0 & 1934 & 0 & 1934 & NA                  & No rec        &  TRUE\\\\\n",
       "\\end{tabular}\n"
      ],
      "text/markdown": [
       "\n",
       "A data.frame: 6 × 50\n",
       "\n",
       "| <!--/--> | cruk_id &lt;chr&gt; | tumour_id_muttable_cruk &lt;chr&gt; | tumour_id_per_patient &lt;chr&gt; | age &lt;int&gt; | sex &lt;chr&gt; | ethnicity &lt;chr&gt; | cigs_perday &lt;dbl&gt; | years_smoking &lt;int&gt; | packyears &lt;dbl&gt; | smoking_status_merged &lt;fct&gt; | ⋯ ⋯ | os_time &lt;int&gt; | cens_dfs &lt;int&gt; | dfs_time &lt;int&gt; | cens_dfs_any_event &lt;int&gt; | dfs_time_any_event &lt;int&gt; | cens_lung_event &lt;int&gt; | lung_event_time &lt;int&gt; | Relapse_cat &lt;chr&gt; | Relapse_cat_new &lt;fct&gt; | tx100 &lt;lgl&gt; |\n",
       "|---|---|---|---|---|---|---|---|---|---|---|---|---|---|---|---|---|---|---|---|---|---|\n",
       "| 1 | CRUK0034 | CRUK0034 | CRUK0034 | 68 | Female | White- Irish   | 20.0 | 35 |  35.000 | Ex-Smoker | ⋯ | 1849 | 0 | 1849 | 0 | 1849 | 0 | 1849 | NA                  | No rec        |  TRUE |\n",
       "| 2 | CRUK0150 | CRUK0150 | CRUK0150 | 81 | Male   | White- British | 44.5 | 49 | 109.025 | Ex-Smoker | ⋯ | 1362 | 1 | 1362 | 1 | 1362 | 0 | 1362 | NA                  | No rec        | FALSE |\n",
       "| 3 | CRUK0159 | CRUK0159 | CRUK0159 | 60 | Male   | White- British | 20.0 | 38 |  38.000 | Smoker    | ⋯ | 2224 | 1 | 2224 | 1 | 1935 | 0 | 2224 | Second primary lung | No rec        | FALSE |\n",
       "| 4 | CRUK0090 | CRUK0090 | CRUK0090 | 65 | Male   | White- British | 10.0 | 35 |  17.500 | Ex-Smoker | ⋯ | 2365 | 1 | 1143 | 1 | 1143 | 1 | 1143 | Intrathoracic       | Intrathoracic |  TRUE |\n",
       "| 5 | CRUK0045 | CRUK0045 | CRUK0045 | 85 | Male   | White- British | 10.0 | 25 |  12.500 | Ex-Smoker | ⋯ |  986 | 1 |  917 | 1 |  917 | 1 |  917 | Intrathoracic       | Intrathoracic |  TRUE |\n",
       "| 6 | CRUK0076 | CRUK0076 | CRUK0076 | 63 | Male   | White- British | 40.0 | 51 | 102.000 | Smoker    | ⋯ | 1934 | 0 | 1934 | 0 | 1934 | 0 | 1934 | NA                  | No rec        |  TRUE |\n",
       "\n"
      ],
      "text/plain": [
       "  cruk_id  tumour_id_muttable_cruk tumour_id_per_patient age sex   \n",
       "1 CRUK0034 CRUK0034                CRUK0034              68  Female\n",
       "2 CRUK0150 CRUK0150                CRUK0150              81  Male  \n",
       "3 CRUK0159 CRUK0159                CRUK0159              60  Male  \n",
       "4 CRUK0090 CRUK0090                CRUK0090              65  Male  \n",
       "5 CRUK0045 CRUK0045                CRUK0045              85  Male  \n",
       "6 CRUK0076 CRUK0076                CRUK0076              63  Male  \n",
       "  ethnicity      cigs_perday years_smoking packyears smoking_status_merged ⋯\n",
       "1 White- Irish   20.0        35             35.000   Ex-Smoker             ⋯\n",
       "2 White- British 44.5        49            109.025   Ex-Smoker             ⋯\n",
       "3 White- British 20.0        38             38.000   Smoker                ⋯\n",
       "4 White- British 10.0        35             17.500   Ex-Smoker             ⋯\n",
       "5 White- British 10.0        25             12.500   Ex-Smoker             ⋯\n",
       "6 White- British 40.0        51            102.000   Smoker                ⋯\n",
       "  os_time cens_dfs dfs_time cens_dfs_any_event dfs_time_any_event\n",
       "1 1849    0        1849     0                  1849              \n",
       "2 1362    1        1362     1                  1362              \n",
       "3 2224    1        2224     1                  1935              \n",
       "4 2365    1        1143     1                  1143              \n",
       "5  986    1         917     1                   917              \n",
       "6 1934    0        1934     0                  1934              \n",
       "  cens_lung_event lung_event_time Relapse_cat         Relapse_cat_new tx100\n",
       "1 0               1849            NA                  No rec           TRUE\n",
       "2 0               1362            NA                  No rec          FALSE\n",
       "3 0               2224            Second primary lung No rec          FALSE\n",
       "4 1               1143            Intrathoracic       Intrathoracic    TRUE\n",
       "5 1                917            Intrathoracic       Intrathoracic    TRUE\n",
       "6 0               1934            NA                  No rec           TRUE"
      ]
     },
     "metadata": {},
     "output_type": "display_data"
    }
   ],
   "source": [
    "patients_df = readRDS('tracerx_data/figurecode/data/20221109_TRACERx421_all_patient_df.rds')\n",
    "head(patients_df)"
   ]
  },
  {
   "cell_type": "markdown",
   "metadata": {},
   "source": [
    "* `cruk_id` : CRUK tumour ID\n",
    "* `tumour_id_muttable_cruk`: CRUK tumour ID\n",
    "* `tumour_id_per_patient` : CRUK tumour ID\n",
    "* `age` : age of the patient\n",
    "* `sex` : sex of the patient\n",
    "* `ethnicity` : ethnicity of the patient\n",
    "* `cigs_perday` : number of cigarettes smoked per day. There are non integer values because some patients smoke cigars or pipes, whose amoiunt was converted to the equivalent in cigarettes counts. One cigar is assumed to be equivalent to approximately 1.5 cigarettes, and for pipes, one bowl of tobacco is equivalent to 2.5 cigarettes, following the table presented [here](http://www.smoking2.nes.scot.nhs.uk/module4/working-out-cigarette-equivalents.html) for conversions.\n",
    "* `years_smoking` : number of years the patient has been smoking.\n",
    "* `packyears` :  number of cigarettes packs smoked per year.\n",
    "* `smoking_status_merged` : smoking status of the patient. Can be `c('Ex-Smoker' 'Smoker' and 'Never Smoked')`\n",
    "* `is.family.lung` : logical indicating whether there is a history of lung cancer in the family.\n",
    "* `ECOG_PS` : (?)"
   ]
  },
  {
   "cell_type": "code",
   "execution_count": 59,
   "metadata": {
    "vscode": {
     "languageId": "r"
    }
   },
   "outputs": [
    {
     "data": {
      "text/html": [
       "<table class=\"dataframe\">\n",
       "<caption>A data.frame: 6 × 1</caption>\n",
       "<thead>\n",
       "\t<tr><th></th><th scope=col>ECOG_PS</th></tr>\n",
       "\t<tr><th></th><th scope=col>&lt;dbl&gt;</th></tr>\n",
       "</thead>\n",
       "<tbody>\n",
       "\t<tr><th scope=row>1</th><td>0</td></tr>\n",
       "\t<tr><th scope=row>2</th><td>0</td></tr>\n",
       "\t<tr><th scope=row>3</th><td>0</td></tr>\n",
       "\t<tr><th scope=row>4</th><td>1</td></tr>\n",
       "\t<tr><th scope=row>5</th><td>1</td></tr>\n",
       "\t<tr><th scope=row>6</th><td>1</td></tr>\n",
       "</tbody>\n",
       "</table>\n"
      ],
      "text/latex": [
       "A data.frame: 6 × 1\n",
       "\\begin{tabular}{r|l}\n",
       "  & ECOG\\_PS\\\\\n",
       "  & <dbl>\\\\\n",
       "\\hline\n",
       "\t1 & 0\\\\\n",
       "\t2 & 0\\\\\n",
       "\t3 & 0\\\\\n",
       "\t4 & 1\\\\\n",
       "\t5 & 1\\\\\n",
       "\t6 & 1\\\\\n",
       "\\end{tabular}\n"
      ],
      "text/markdown": [
       "\n",
       "A data.frame: 6 × 1\n",
       "\n",
       "| <!--/--> | ECOG_PS &lt;dbl&gt; |\n",
       "|---|---|\n",
       "| 1 | 0 |\n",
       "| 2 | 0 |\n",
       "| 3 | 0 |\n",
       "| 4 | 1 |\n",
       "| 5 | 1 |\n",
       "| 6 | 1 |\n",
       "\n"
      ],
      "text/plain": [
       "  ECOG_PS\n",
       "1 0      \n",
       "2 0      \n",
       "3 0      \n",
       "4 1      \n",
       "5 1      \n",
       "6 1      "
      ]
     },
     "metadata": {},
     "output_type": "display_data"
    },
    {
     "data": {
      "text/html": [
       "<style>\n",
       ".list-inline {list-style: none; margin:0; padding: 0}\n",
       ".list-inline>li {display: inline-block}\n",
       ".list-inline>li:not(:last-child)::after {content: \"\\00b7\"; padding: 0 .5ex}\n",
       "</style>\n",
       "<ol class=list-inline><li>0</li><li>1</li></ol>\n"
      ],
      "text/latex": [
       "\\begin{enumerate*}\n",
       "\\item 0\n",
       "\\item 1\n",
       "\\end{enumerate*}\n"
      ],
      "text/markdown": [
       "1. 0\n",
       "2. 1\n",
       "\n",
       "\n"
      ],
      "text/plain": [
       "[1] 0 1"
      ]
     },
     "metadata": {},
     "output_type": "display_data"
    }
   ],
   "source": [
    "patients_df %>% select('ECOG_PS') %>% head\n",
    "unique(patients_df$ECOG_PS)"
   ]
  },
  {
   "cell_type": "markdown",
   "metadata": {},
   "source": [
    "* `pathologyTNM`\n",
    "* `pT_stage_per_patient`\n",
    "* `pN_stage_per_patient`\n",
    "* `LVI_per_patient`"
   ]
  },
  {
   "cell_type": "code",
   "execution_count": 56,
   "metadata": {
    "vscode": {
     "languageId": "r"
    }
   },
   "outputs": [
    {
     "data": {
      "text/html": [
       "<table class=\"dataframe\">\n",
       "<caption>A data.frame: 6 × 1</caption>\n",
       "<thead>\n",
       "\t<tr><th></th><th scope=col>LVI_per_patient</th></tr>\n",
       "\t<tr><th></th><th scope=col>&lt;chr&gt;</th></tr>\n",
       "</thead>\n",
       "<tbody>\n",
       "\t<tr><th scope=row>1</th><td>Yes</td></tr>\n",
       "\t<tr><th scope=row>2</th><td>Yes</td></tr>\n",
       "\t<tr><th scope=row>3</th><td>Yes</td></tr>\n",
       "\t<tr><th scope=row>4</th><td>Yes</td></tr>\n",
       "\t<tr><th scope=row>5</th><td>Yes</td></tr>\n",
       "\t<tr><th scope=row>6</th><td>No </td></tr>\n",
       "</tbody>\n",
       "</table>\n"
      ],
      "text/latex": [
       "A data.frame: 6 × 1\n",
       "\\begin{tabular}{r|l}\n",
       "  & LVI\\_per\\_patient\\\\\n",
       "  & <chr>\\\\\n",
       "\\hline\n",
       "\t1 & Yes\\\\\n",
       "\t2 & Yes\\\\\n",
       "\t3 & Yes\\\\\n",
       "\t4 & Yes\\\\\n",
       "\t5 & Yes\\\\\n",
       "\t6 & No \\\\\n",
       "\\end{tabular}\n"
      ],
      "text/markdown": [
       "\n",
       "A data.frame: 6 × 1\n",
       "\n",
       "| <!--/--> | LVI_per_patient &lt;chr&gt; |\n",
       "|---|---|\n",
       "| 1 | Yes |\n",
       "| 2 | Yes |\n",
       "| 3 | Yes |\n",
       "| 4 | Yes |\n",
       "| 5 | Yes |\n",
       "| 6 | No  |\n",
       "\n"
      ],
      "text/plain": [
       "  LVI_per_patient\n",
       "1 Yes            \n",
       "2 Yes            \n",
       "3 Yes            \n",
       "4 Yes            \n",
       "5 Yes            \n",
       "6 No             "
      ]
     },
     "metadata": {},
     "output_type": "display_data"
    },
    {
     "name": "stdout",
     "output_type": "stream",
     "text": [
      "[1] \"Yes\" \"No\" \n"
     ]
    }
   ],
   "source": [
    "patients_df %>% select('LVI_per_patient') %>% head\n",
    "print(unique(patients_df$LVI_per_patient))"
   ]
  },
  {
   "cell_type": "markdown",
   "metadata": {},
   "source": [
    "* `PL_per_patient`\n"
   ]
  },
  {
   "cell_type": "code",
   "execution_count": 57,
   "metadata": {
    "vscode": {
     "languageId": "r"
    }
   },
   "outputs": [
    {
     "data": {
      "text/html": [
       "<table class=\"dataframe\">\n",
       "<caption>A data.frame: 6 × 1</caption>\n",
       "<thead>\n",
       "\t<tr><th></th><th scope=col>PL_per_patient</th></tr>\n",
       "\t<tr><th></th><th scope=col>&lt;chr&gt;</th></tr>\n",
       "</thead>\n",
       "<tbody>\n",
       "\t<tr><th scope=row>1</th><td>No </td></tr>\n",
       "\t<tr><th scope=row>2</th><td>No </td></tr>\n",
       "\t<tr><th scope=row>3</th><td>Yes</td></tr>\n",
       "\t<tr><th scope=row>4</th><td>Yes</td></tr>\n",
       "\t<tr><th scope=row>5</th><td>Yes</td></tr>\n",
       "\t<tr><th scope=row>6</th><td>No </td></tr>\n",
       "</tbody>\n",
       "</table>\n"
      ],
      "text/latex": [
       "A data.frame: 6 × 1\n",
       "\\begin{tabular}{r|l}\n",
       "  & PL\\_per\\_patient\\\\\n",
       "  & <chr>\\\\\n",
       "\\hline\n",
       "\t1 & No \\\\\n",
       "\t2 & No \\\\\n",
       "\t3 & Yes\\\\\n",
       "\t4 & Yes\\\\\n",
       "\t5 & Yes\\\\\n",
       "\t6 & No \\\\\n",
       "\\end{tabular}\n"
      ],
      "text/markdown": [
       "\n",
       "A data.frame: 6 × 1\n",
       "\n",
       "| <!--/--> | PL_per_patient &lt;chr&gt; |\n",
       "|---|---|\n",
       "| 1 | No  |\n",
       "| 2 | No  |\n",
       "| 3 | Yes |\n",
       "| 4 | Yes |\n",
       "| 5 | Yes |\n",
       "| 6 | No  |\n",
       "\n"
      ],
      "text/plain": [
       "  PL_per_patient\n",
       "1 No            \n",
       "2 No            \n",
       "3 Yes           \n",
       "4 Yes           \n",
       "5 Yes           \n",
       "6 No            "
      ]
     },
     "metadata": {},
     "output_type": "display_data"
    },
    {
     "name": "stdout",
     "output_type": "stream",
     "text": [
      "[1] \"No\"  \"Yes\"\n"
     ]
    }
   ],
   "source": [
    "patients_df %>% select('PL_per_patient') %>% head\n",
    "print(unique(patients_df$PL_per_patient))"
   ]
  },
  {
   "cell_type": "markdown",
   "metadata": {},
   "source": [
    "* `margin_status_per_patient`\n"
   ]
  },
  {
   "cell_type": "code",
   "execution_count": 58,
   "metadata": {
    "vscode": {
     "languageId": "r"
    }
   },
   "outputs": [
    {
     "data": {
      "text/html": [
       "<table class=\"dataframe\">\n",
       "<caption>A data.frame: 6 × 1</caption>\n",
       "<thead>\n",
       "\t<tr><th></th><th scope=col>margin_status_per_patient</th></tr>\n",
       "\t<tr><th></th><th scope=col>&lt;chr&gt;</th></tr>\n",
       "</thead>\n",
       "<tbody>\n",
       "\t<tr><th scope=row>1</th><td>R0</td></tr>\n",
       "\t<tr><th scope=row>2</th><td>R0</td></tr>\n",
       "\t<tr><th scope=row>3</th><td>R0</td></tr>\n",
       "\t<tr><th scope=row>4</th><td>R0</td></tr>\n",
       "\t<tr><th scope=row>5</th><td>R0</td></tr>\n",
       "\t<tr><th scope=row>6</th><td>R0</td></tr>\n",
       "</tbody>\n",
       "</table>\n"
      ],
      "text/latex": [
       "A data.frame: 6 × 1\n",
       "\\begin{tabular}{r|l}\n",
       "  & margin\\_status\\_per\\_patient\\\\\n",
       "  & <chr>\\\\\n",
       "\\hline\n",
       "\t1 & R0\\\\\n",
       "\t2 & R0\\\\\n",
       "\t3 & R0\\\\\n",
       "\t4 & R0\\\\\n",
       "\t5 & R0\\\\\n",
       "\t6 & R0\\\\\n",
       "\\end{tabular}\n"
      ],
      "text/markdown": [
       "\n",
       "A data.frame: 6 × 1\n",
       "\n",
       "| <!--/--> | margin_status_per_patient &lt;chr&gt; |\n",
       "|---|---|\n",
       "| 1 | R0 |\n",
       "| 2 | R0 |\n",
       "| 3 | R0 |\n",
       "| 4 | R0 |\n",
       "| 5 | R0 |\n",
       "| 6 | R0 |\n",
       "\n"
      ],
      "text/plain": [
       "  margin_status_per_patient\n",
       "1 R0                       \n",
       "2 R0                       \n",
       "3 R0                       \n",
       "4 R0                       \n",
       "5 R0                       \n",
       "6 R0                       "
      ]
     },
     "metadata": {},
     "output_type": "display_data"
    },
    {
     "name": "stdout",
     "output_type": "stream",
     "text": [
      "[1] \"R0\" \"R1\"\n"
     ]
    }
   ],
   "source": [
    "patients_df %>% select('margin_status_per_patient') %>% head\n",
    "print(unique(patients_df$margin_status_per_patient))"
   ]
  },
  {
   "cell_type": "markdown",
   "metadata": {},
   "source": [
    "* `size_pathology_per_patient` : pathology size\n",
    "* `Surgery_type` : surgery performed on patient. Can be one of 'Lobectomy''Segmentectomy or wedge resection''Bilobectomy''Pneumonectomy''Lobectomy and wedge resection''Lingulectomy'.\n",
    "* `histology_lesion1` : histology of the patient samples.\n",
    "* `histology_lesion1_merged` : how was the information merged across the multiple samples? These are the patients where the two columns are not identical.\n"
   ]
  },
  {
   "cell_type": "code",
   "execution_count": 66,
   "metadata": {
    "vscode": {
     "languageId": "r"
    }
   },
   "outputs": [
    {
     "data": {
      "text/html": [
       "<style>\n",
       ".list-inline {list-style: none; margin:0; padding: 0}\n",
       ".list-inline>li {display: inline-block}\n",
       ".list-inline>li:not(:last-child)::after {content: \"\\00b7\"; padding: 0 .5ex}\n",
       "</style>\n",
       "<ol class=list-inline><li>'Invasive adenocarcinoma'</li><li>'LCNEC'</li><li>'Squamous cell carcinoma'</li><li>'Pleomorphic carcinoma'</li><li>'Adenosquamous carcinoma'</li><li>'Carcinosarcoma'</li><li>'combined LUAD and LCNEC'</li><li>'Large cell carcinoma'</li><li>'Collision LUAD and LUSC'</li></ol>\n"
      ],
      "text/latex": [
       "\\begin{enumerate*}\n",
       "\\item 'Invasive adenocarcinoma'\n",
       "\\item 'LCNEC'\n",
       "\\item 'Squamous cell carcinoma'\n",
       "\\item 'Pleomorphic carcinoma'\n",
       "\\item 'Adenosquamous carcinoma'\n",
       "\\item 'Carcinosarcoma'\n",
       "\\item 'combined LUAD and LCNEC'\n",
       "\\item 'Large cell carcinoma'\n",
       "\\item 'Collision LUAD and LUSC'\n",
       "\\end{enumerate*}\n"
      ],
      "text/markdown": [
       "1. 'Invasive adenocarcinoma'\n",
       "2. 'LCNEC'\n",
       "3. 'Squamous cell carcinoma'\n",
       "4. 'Pleomorphic carcinoma'\n",
       "5. 'Adenosquamous carcinoma'\n",
       "6. 'Carcinosarcoma'\n",
       "7. 'combined LUAD and LCNEC'\n",
       "8. 'Large cell carcinoma'\n",
       "9. 'Collision LUAD and LUSC'\n",
       "\n",
       "\n"
      ],
      "text/plain": [
       "[1] \"Invasive adenocarcinoma\" \"LCNEC\"                  \n",
       "[3] \"Squamous cell carcinoma\" \"Pleomorphic carcinoma\"  \n",
       "[5] \"Adenosquamous carcinoma\" \"Carcinosarcoma\"         \n",
       "[7] \"combined LUAD and LCNEC\" \"Large cell carcinoma\"   \n",
       "[9] \"Collision LUAD and LUSC\""
      ]
     },
     "metadata": {},
     "output_type": "display_data"
    },
    {
     "data": {
      "text/html": [
       "<table class=\"dataframe\">\n",
       "<caption>A data.frame: 4 × 2</caption>\n",
       "<thead>\n",
       "\t<tr><th scope=col>histology_lesion1</th><th scope=col>histology_lesion1_merged</th></tr>\n",
       "\t<tr><th scope=col>&lt;chr&gt;</th><th scope=col>&lt;chr&gt;</th></tr>\n",
       "</thead>\n",
       "<tbody>\n",
       "\t<tr><td>Carcinosarcoma         </td><td>Other</td></tr>\n",
       "\t<tr><td>combined LUAD and LCNEC</td><td>LCNEC</td></tr>\n",
       "\t<tr><td>Collision LUAD and LUSC</td><td>Other</td></tr>\n",
       "\t<tr><td>combined LUAD and LCNEC</td><td>LCNEC</td></tr>\n",
       "</tbody>\n",
       "</table>\n"
      ],
      "text/latex": [
       "A data.frame: 4 × 2\n",
       "\\begin{tabular}{ll}\n",
       " histology\\_lesion1 & histology\\_lesion1\\_merged\\\\\n",
       " <chr> & <chr>\\\\\n",
       "\\hline\n",
       "\t Carcinosarcoma          & Other\\\\\n",
       "\t combined LUAD and LCNEC & LCNEC\\\\\n",
       "\t Collision LUAD and LUSC & Other\\\\\n",
       "\t combined LUAD and LCNEC & LCNEC\\\\\n",
       "\\end{tabular}\n"
      ],
      "text/markdown": [
       "\n",
       "A data.frame: 4 × 2\n",
       "\n",
       "| histology_lesion1 &lt;chr&gt; | histology_lesion1_merged &lt;chr&gt; |\n",
       "|---|---|\n",
       "| Carcinosarcoma          | Other |\n",
       "| combined LUAD and LCNEC | LCNEC |\n",
       "| Collision LUAD and LUSC | Other |\n",
       "| combined LUAD and LCNEC | LCNEC |\n",
       "\n"
      ],
      "text/plain": [
       "  histology_lesion1       histology_lesion1_merged\n",
       "1 Carcinosarcoma          Other                   \n",
       "2 combined LUAD and LCNEC LCNEC                   \n",
       "3 Collision LUAD and LUSC Other                   \n",
       "4 combined LUAD and LCNEC LCNEC                   "
      ]
     },
     "metadata": {},
     "output_type": "display_data"
    }
   ],
   "source": [
    "unique(patients_df$histology_lesion1)\n",
    "\n",
    "patients_df %>%\n",
    "\tdplyr::filter(histology_lesion1 != histology_lesion1_merged) %>% \n",
    "\tselect(histology_lesion1, histology_lesion1_merged)"
   ]
  },
  {
   "cell_type": "markdown",
   "metadata": {},
   "source": [
    "* `lesion1_sampled` : logical indicating whether lesion 1 was sampled.\n",
    "* `histology_lesion2` : histology for lesion 2 (when sampled)\n",
    "* `lesion2_sampled` : logical indicating whether lesion 2 was sampled.\n",
    "* `histology_multi_full` : (?) \n"
   ]
  },
  {
   "cell_type": "code",
   "execution_count": 71,
   "metadata": {
    "vscode": {
     "languageId": "r"
    }
   },
   "outputs": [
    {
     "data": {
      "text/plain": [
       "\n",
       "         LUAD     LUAD&LUSC    LUAD&Other        LUADx2        LUADx3 \n",
       "          223             8             3             9             1 \n",
       "         LUSC    LUSC&Other         Other Other&Unknown \n",
       "          131             1            44             1 "
      ]
     },
     "metadata": {},
     "output_type": "display_data"
    }
   ],
   "source": [
    "table(patients_df$histology_multi_full)"
   ]
  },
  {
   "cell_type": "markdown",
   "metadata": {},
   "source": [
    "* `histology_multi_full_genomically.confirmed`\n"
   ]
  },
  {
   "cell_type": "code",
   "execution_count": 72,
   "metadata": {
    "vscode": {
     "languageId": "r"
    }
   },
   "outputs": [
    {
     "data": {
      "text/plain": [
       "\n",
       "      LUAD  LUAD&LUSC LUAD&Other     LUADx2     LUADx3       LUSC      Other \n",
       "       231          4          1          5          1        134         45 "
      ]
     },
     "metadata": {},
     "output_type": "display_data"
    }
   ],
   "source": [
    "table(patients_df$histology_multi_full_genomically.confirmed)"
   ]
  },
  {
   "cell_type": "markdown",
   "metadata": {},
   "source": [
    "* `LUAD_pred_subtype` :  For LUAD samples, this column contains the tissue architecture growth pattern. Such patterns are inferred from diagnostic H&E slides, and they can be divided in two categories: low-grade (lepidic, mid grade, papillary and acinar) and high-grade (cribriform, micropapillary and solid).\n",
    "* `adjuvant_treatment_YN` : can either be 'No adjuvant' or 'Adjuvant' based on whether the patient received adjuvant treatment\n",
    "* `adjuvant_treatment_given` : which adjuvant treatment was given to the patient. It can be one of `'Platinum chemo''Radiotherapy'` and `'Platinum chemo/radiotherapy'`. For patients who did not receive adjuvant treatment, this columns is NA.\n",
    "* `num_cycle_na.added` : number of cycles of adjuvant treatment given to the patient. For those who did not receive AT, this column is equal to 0. \n",
    "* `CHMPlatDgName_cleaned` : name of the chemotherapy platinum agent used in each AT cycle. The drug names for each cycle are separated by ';', eg, Cisplatin;Carboplatin. (?) check whether this is correct\n",
    "* `CHMOthDgName_cleaned` : name of the second chemotherapy drug given in combination with the platinum agent. Drug names in each cycle are separated by ';'.\n"
   ]
  },
  {
   "cell_type": "code",
   "execution_count": 83,
   "metadata": {
    "vscode": {
     "languageId": "r"
    }
   },
   "outputs": [
    {
     "data": {
      "text/html": [
       "<table class=\"dataframe\">\n",
       "<caption>A data.frame: 32 × 5</caption>\n",
       "<thead>\n",
       "\t<tr><th></th><th scope=col>num_cycle_na.added</th><th scope=col>adjuvant_treatment_YN</th><th scope=col>adjuvant_treatment_given</th><th scope=col>CHMPlatDgName_cleaned</th><th scope=col>CHMOthDgName_cleaned</th></tr>\n",
       "\t<tr><th></th><th scope=col>&lt;chr&gt;</th><th scope=col>&lt;chr&gt;</th><th scope=col>&lt;chr&gt;</th><th scope=col>&lt;chr&gt;</th><th scope=col>&lt;chr&gt;</th></tr>\n",
       "</thead>\n",
       "<tbody>\n",
       "\t<tr><th scope=row>1</th><td>0 </td><td>No adjuvant</td><td>NA                         </td><td>NA                                                                     </td><td>NA                                                         </td></tr>\n",
       "\t<tr><th scope=row>3</th><td>4 </td><td>Adjuvant   </td><td>Platinum chemo             </td><td>Cisplatin;Cisplatin;Cisplatin;Cisplatin                                </td><td>Vinorelbine;Vinorelbine;Vinorelbine;Vinorelbine            </td></tr>\n",
       "\t<tr><th scope=row>4</th><td>3 </td><td>Adjuvant   </td><td>Platinum chemo             </td><td>Cisplatin;Cisplatin;Cisplatin                                          </td><td>Vinorelbine;Vinorelbine;Vinorelbine                        </td></tr>\n",
       "\t<tr><th scope=row>7</th><td>1 </td><td>Adjuvant   </td><td>Platinum chemo             </td><td>Cisplatin                                                              </td><td>Vinorelbine                                                </td></tr>\n",
       "\t<tr><th scope=row>11</th><td>2 </td><td>Adjuvant   </td><td>Platinum chemo             </td><td>Cisplatin;Carboplatin                                                  </td><td>Vinorelbine;Vinorelbine                                    </td></tr>\n",
       "\t<tr><th scope=row>27</th><td>4 </td><td>Adjuvant   </td><td>Platinum chemo             </td><td>Carboplatin;Carboplatin;Carboplatin;Carboplatin                        </td><td>Vinorelbine;Vinorelbine;Vinorelbine;Vinorelbine            </td></tr>\n",
       "\t<tr><th scope=row>30</th><td>0 </td><td>Adjuvant   </td><td>Radiotherapy               </td><td>NA                                                                     </td><td>NA                                                         </td></tr>\n",
       "\t<tr><th scope=row>57</th><td>5 </td><td>Adjuvant   </td><td>Platinum chemo             </td><td>Cisplatin;Carboplatin;Carboplatin;Carboplatin;Carboplatin              </td><td>Vinorelbine;Pemetrexed;Pemetrexed;Pemetrexed;Pemetrexed    </td></tr>\n",
       "\t<tr><th scope=row>58</th><td>4 </td><td>Adjuvant   </td><td>Platinum chemo/radiotherapy</td><td>Cisplatin;Cisplatin;Carboplatin;Carboplatin                            </td><td>Vinorelbine;Vinorelbine;Vinorelbine;Vinorelbine            </td></tr>\n",
       "\t<tr><th scope=row>66</th><td>2 </td><td>Adjuvant   </td><td>Platinum chemo             </td><td>Cisplatin;Cisplatin                                                    </td><td>Vinorelbine;Vinorelbine                                    </td></tr>\n",
       "\t<tr><th scope=row>67</th><td>4 </td><td>Adjuvant   </td><td>Platinum chemo             </td><td>Carboplatin;Carboplatin;Carboplatin                                    </td><td>Vinorelbine;Vinorelbine;Vinorelbine                        </td></tr>\n",
       "\t<tr><th scope=row>73</th><td>3 </td><td>Adjuvant   </td><td>Platinum chemo             </td><td>Cisplatin;Carboplatin;Carboplatin                                      </td><td>Vinorelbine;Vinorelbine;Vinorelbine                        </td></tr>\n",
       "\t<tr><th scope=row>74</th><td>4 </td><td>Adjuvant   </td><td>Platinum chemo             </td><td>Cisplatin;Carboplatin;Carboplatin;Carboplatin                          </td><td>Vinorelbine;Vinorelbine;Vinorelbine;Vinorelbine            </td></tr>\n",
       "\t<tr><th scope=row>75</th><td>4 </td><td>Adjuvant   </td><td>Platinum chemo             </td><td>Cisplatin;Cisplatin;Cisplatin;Cisplatin                                </td><td>Pemetrexed;Pemetrexed;Pemetrexed;Pemetrexed                </td></tr>\n",
       "\t<tr><th scope=row>76</th><td>6 </td><td>Adjuvant   </td><td>Platinum chemo             </td><td>Carboplatin;Carboplatin;Carboplatin;Carboplatin;Carboplatin;Carboplatin</td><td>Etoposide;Etoposide;Etoposide;Etoposide;Etoposide;Etoposide</td></tr>\n",
       "\t<tr><th scope=row>91</th><td>1 </td><td>Adjuvant   </td><td>Platinum chemo             </td><td>Carboplatin                                                            </td><td>Vinorelbine                                                </td></tr>\n",
       "\t<tr><th scope=row>111</th><td>4 </td><td>Adjuvant   </td><td>Platinum chemo/radiotherapy</td><td>Carboplatin;Carboplatin;Carboplatin;Carboplatin                        </td><td>Vinorelbine;Vinorelbine;Vinorelbine;Vinorelbine            </td></tr>\n",
       "\t<tr><th scope=row>132</th><td>2 </td><td>Adjuvant   </td><td>Platinum chemo/radiotherapy</td><td>Cisplatin;Cisplatin                                                    </td><td>Vinorelbine;Vinorelbine                                    </td></tr>\n",
       "\t<tr><th scope=row>133</th><td>4 </td><td>Adjuvant   </td><td>Platinum chemo             </td><td>Carboplatin;Carboplatin;Carboplatin;Carboplatin                        </td><td>Etoposide;Etoposide;Etoposide;Etoposide                    </td></tr>\n",
       "\t<tr><th scope=row>187</th><td>3 </td><td>Adjuvant   </td><td>Platinum chemo             </td><td>Carboplatin;Carboplatin;NA                                             </td><td>Pemetrexed;Pemetrexed;Docetaxel                            </td></tr>\n",
       "\t<tr><th scope=row>210</th><td>4 </td><td>Adjuvant   </td><td>Platinum chemo             </td><td>Cisplatin;Cisplatin;Carboplatin;Carboplatin                            </td><td>Vinorelbine;Vinorelbine;Vinorelbine;Vinorelbine            </td></tr>\n",
       "\t<tr><th scope=row>230</th><td>NA</td><td>Adjuvant   </td><td>Platinum chemo             </td><td>NA                                                                     </td><td>NA                                                         </td></tr>\n",
       "\t<tr><th scope=row>239</th><td>2 </td><td>Adjuvant   </td><td>Platinum chemo             </td><td>Carboplatin;Carboplatin                                                </td><td>Vinorelbine;Vinorelbine                                    </td></tr>\n",
       "\t<tr><th scope=row>244</th><td>4 </td><td>Adjuvant   </td><td>Platinum chemo/radiotherapy</td><td>Cisplatin;Cisplatin;Cisplatin;Cisplatin                                </td><td>Vinorelbine;Vinorelbine;Vinorelbine;Vinorelbine            </td></tr>\n",
       "\t<tr><th scope=row>245</th><td>3 </td><td>Adjuvant   </td><td>Platinum chemo             </td><td>Carboplatin;NA;NA                                                      </td><td>Vinorelbine;NA;NA                                          </td></tr>\n",
       "\t<tr><th scope=row>279</th><td>4 </td><td>Adjuvant   </td><td>Platinum chemo             </td><td>Cisplatin;Cisplatin;Cisplatin;Carboplatin                              </td><td>Vinorelbine;Vinorelbine;Vinorelbine;Vinorelbine            </td></tr>\n",
       "\t<tr><th scope=row>288</th><td>4 </td><td>Adjuvant   </td><td>Platinum chemo             </td><td>Cisplatin;Carboplatin;Carboplatin;Carboplatin                          </td><td>Etoposide;Etoposide;Etoposide;Etoposide                    </td></tr>\n",
       "\t<tr><th scope=row>319</th><td>3 </td><td>Adjuvant   </td><td>Platinum chemo/radiotherapy</td><td>Carboplatin;Carboplatin;Carboplatin                                    </td><td>Vinorelbine;Vinorelbine;Vinorelbine                        </td></tr>\n",
       "\t<tr><th scope=row>320</th><td>3 </td><td>Adjuvant   </td><td>Platinum chemo             </td><td>Cisplatin;Cisplatin;Carboplatin                                        </td><td>Vinorelbine;Vinorelbine;Vinorelbine                        </td></tr>\n",
       "\t<tr><th scope=row>377</th><td>3 </td><td>Adjuvant   </td><td>Platinum chemo             </td><td>Carboplatin;Carboplatin;Carboplatin                                    </td><td>Vinorelbine;Vinorelbine;Vinorelbine                        </td></tr>\n",
       "\t<tr><th scope=row>403</th><td>1 </td><td>Adjuvant   </td><td>Platinum chemo/radiotherapy</td><td>Cisplatin                                                              </td><td>Vinorelbine                                                </td></tr>\n",
       "\t<tr><th scope=row>407</th><td>1 </td><td>Adjuvant   </td><td>Platinum chemo             </td><td>Cisplatin                                                              </td><td>Pemetrexed                                                 </td></tr>\n",
       "</tbody>\n",
       "</table>\n"
      ],
      "text/latex": [
       "A data.frame: 32 × 5\n",
       "\\begin{tabular}{r|lllll}\n",
       "  & num\\_cycle\\_na.added & adjuvant\\_treatment\\_YN & adjuvant\\_treatment\\_given & CHMPlatDgName\\_cleaned & CHMOthDgName\\_cleaned\\\\\n",
       "  & <chr> & <chr> & <chr> & <chr> & <chr>\\\\\n",
       "\\hline\n",
       "\t1 & 0  & No adjuvant & NA                          & NA                                                                      & NA                                                         \\\\\n",
       "\t3 & 4  & Adjuvant    & Platinum chemo              & Cisplatin;Cisplatin;Cisplatin;Cisplatin                                 & Vinorelbine;Vinorelbine;Vinorelbine;Vinorelbine            \\\\\n",
       "\t4 & 3  & Adjuvant    & Platinum chemo              & Cisplatin;Cisplatin;Cisplatin                                           & Vinorelbine;Vinorelbine;Vinorelbine                        \\\\\n",
       "\t7 & 1  & Adjuvant    & Platinum chemo              & Cisplatin                                                               & Vinorelbine                                                \\\\\n",
       "\t11 & 2  & Adjuvant    & Platinum chemo              & Cisplatin;Carboplatin                                                   & Vinorelbine;Vinorelbine                                    \\\\\n",
       "\t27 & 4  & Adjuvant    & Platinum chemo              & Carboplatin;Carboplatin;Carboplatin;Carboplatin                         & Vinorelbine;Vinorelbine;Vinorelbine;Vinorelbine            \\\\\n",
       "\t30 & 0  & Adjuvant    & Radiotherapy                & NA                                                                      & NA                                                         \\\\\n",
       "\t57 & 5  & Adjuvant    & Platinum chemo              & Cisplatin;Carboplatin;Carboplatin;Carboplatin;Carboplatin               & Vinorelbine;Pemetrexed;Pemetrexed;Pemetrexed;Pemetrexed    \\\\\n",
       "\t58 & 4  & Adjuvant    & Platinum chemo/radiotherapy & Cisplatin;Cisplatin;Carboplatin;Carboplatin                             & Vinorelbine;Vinorelbine;Vinorelbine;Vinorelbine            \\\\\n",
       "\t66 & 2  & Adjuvant    & Platinum chemo              & Cisplatin;Cisplatin                                                     & Vinorelbine;Vinorelbine                                    \\\\\n",
       "\t67 & 4  & Adjuvant    & Platinum chemo              & Carboplatin;Carboplatin;Carboplatin                                     & Vinorelbine;Vinorelbine;Vinorelbine                        \\\\\n",
       "\t73 & 3  & Adjuvant    & Platinum chemo              & Cisplatin;Carboplatin;Carboplatin                                       & Vinorelbine;Vinorelbine;Vinorelbine                        \\\\\n",
       "\t74 & 4  & Adjuvant    & Platinum chemo              & Cisplatin;Carboplatin;Carboplatin;Carboplatin                           & Vinorelbine;Vinorelbine;Vinorelbine;Vinorelbine            \\\\\n",
       "\t75 & 4  & Adjuvant    & Platinum chemo              & Cisplatin;Cisplatin;Cisplatin;Cisplatin                                 & Pemetrexed;Pemetrexed;Pemetrexed;Pemetrexed                \\\\\n",
       "\t76 & 6  & Adjuvant    & Platinum chemo              & Carboplatin;Carboplatin;Carboplatin;Carboplatin;Carboplatin;Carboplatin & Etoposide;Etoposide;Etoposide;Etoposide;Etoposide;Etoposide\\\\\n",
       "\t91 & 1  & Adjuvant    & Platinum chemo              & Carboplatin                                                             & Vinorelbine                                                \\\\\n",
       "\t111 & 4  & Adjuvant    & Platinum chemo/radiotherapy & Carboplatin;Carboplatin;Carboplatin;Carboplatin                         & Vinorelbine;Vinorelbine;Vinorelbine;Vinorelbine            \\\\\n",
       "\t132 & 2  & Adjuvant    & Platinum chemo/radiotherapy & Cisplatin;Cisplatin                                                     & Vinorelbine;Vinorelbine                                    \\\\\n",
       "\t133 & 4  & Adjuvant    & Platinum chemo              & Carboplatin;Carboplatin;Carboplatin;Carboplatin                         & Etoposide;Etoposide;Etoposide;Etoposide                    \\\\\n",
       "\t187 & 3  & Adjuvant    & Platinum chemo              & Carboplatin;Carboplatin;NA                                              & Pemetrexed;Pemetrexed;Docetaxel                            \\\\\n",
       "\t210 & 4  & Adjuvant    & Platinum chemo              & Cisplatin;Cisplatin;Carboplatin;Carboplatin                             & Vinorelbine;Vinorelbine;Vinorelbine;Vinorelbine            \\\\\n",
       "\t230 & NA & Adjuvant    & Platinum chemo              & NA                                                                      & NA                                                         \\\\\n",
       "\t239 & 2  & Adjuvant    & Platinum chemo              & Carboplatin;Carboplatin                                                 & Vinorelbine;Vinorelbine                                    \\\\\n",
       "\t244 & 4  & Adjuvant    & Platinum chemo/radiotherapy & Cisplatin;Cisplatin;Cisplatin;Cisplatin                                 & Vinorelbine;Vinorelbine;Vinorelbine;Vinorelbine            \\\\\n",
       "\t245 & 3  & Adjuvant    & Platinum chemo              & Carboplatin;NA;NA                                                       & Vinorelbine;NA;NA                                          \\\\\n",
       "\t279 & 4  & Adjuvant    & Platinum chemo              & Cisplatin;Cisplatin;Cisplatin;Carboplatin                               & Vinorelbine;Vinorelbine;Vinorelbine;Vinorelbine            \\\\\n",
       "\t288 & 4  & Adjuvant    & Platinum chemo              & Cisplatin;Carboplatin;Carboplatin;Carboplatin                           & Etoposide;Etoposide;Etoposide;Etoposide                    \\\\\n",
       "\t319 & 3  & Adjuvant    & Platinum chemo/radiotherapy & Carboplatin;Carboplatin;Carboplatin                                     & Vinorelbine;Vinorelbine;Vinorelbine                        \\\\\n",
       "\t320 & 3  & Adjuvant    & Platinum chemo              & Cisplatin;Cisplatin;Carboplatin                                         & Vinorelbine;Vinorelbine;Vinorelbine                        \\\\\n",
       "\t377 & 3  & Adjuvant    & Platinum chemo              & Carboplatin;Carboplatin;Carboplatin                                     & Vinorelbine;Vinorelbine;Vinorelbine                        \\\\\n",
       "\t403 & 1  & Adjuvant    & Platinum chemo/radiotherapy & Cisplatin                                                               & Vinorelbine                                                \\\\\n",
       "\t407 & 1  & Adjuvant    & Platinum chemo              & Cisplatin                                                               & Pemetrexed                                                 \\\\\n",
       "\\end{tabular}\n"
      ],
      "text/markdown": [
       "\n",
       "A data.frame: 32 × 5\n",
       "\n",
       "| <!--/--> | num_cycle_na.added &lt;chr&gt; | adjuvant_treatment_YN &lt;chr&gt; | adjuvant_treatment_given &lt;chr&gt; | CHMPlatDgName_cleaned &lt;chr&gt; | CHMOthDgName_cleaned &lt;chr&gt; |\n",
       "|---|---|---|---|---|---|\n",
       "| 1 | 0  | No adjuvant | NA                          | NA                                                                      | NA                                                          |\n",
       "| 3 | 4  | Adjuvant    | Platinum chemo              | Cisplatin;Cisplatin;Cisplatin;Cisplatin                                 | Vinorelbine;Vinorelbine;Vinorelbine;Vinorelbine             |\n",
       "| 4 | 3  | Adjuvant    | Platinum chemo              | Cisplatin;Cisplatin;Cisplatin                                           | Vinorelbine;Vinorelbine;Vinorelbine                         |\n",
       "| 7 | 1  | Adjuvant    | Platinum chemo              | Cisplatin                                                               | Vinorelbine                                                 |\n",
       "| 11 | 2  | Adjuvant    | Platinum chemo              | Cisplatin;Carboplatin                                                   | Vinorelbine;Vinorelbine                                     |\n",
       "| 27 | 4  | Adjuvant    | Platinum chemo              | Carboplatin;Carboplatin;Carboplatin;Carboplatin                         | Vinorelbine;Vinorelbine;Vinorelbine;Vinorelbine             |\n",
       "| 30 | 0  | Adjuvant    | Radiotherapy                | NA                                                                      | NA                                                          |\n",
       "| 57 | 5  | Adjuvant    | Platinum chemo              | Cisplatin;Carboplatin;Carboplatin;Carboplatin;Carboplatin               | Vinorelbine;Pemetrexed;Pemetrexed;Pemetrexed;Pemetrexed     |\n",
       "| 58 | 4  | Adjuvant    | Platinum chemo/radiotherapy | Cisplatin;Cisplatin;Carboplatin;Carboplatin                             | Vinorelbine;Vinorelbine;Vinorelbine;Vinorelbine             |\n",
       "| 66 | 2  | Adjuvant    | Platinum chemo              | Cisplatin;Cisplatin                                                     | Vinorelbine;Vinorelbine                                     |\n",
       "| 67 | 4  | Adjuvant    | Platinum chemo              | Carboplatin;Carboplatin;Carboplatin                                     | Vinorelbine;Vinorelbine;Vinorelbine                         |\n",
       "| 73 | 3  | Adjuvant    | Platinum chemo              | Cisplatin;Carboplatin;Carboplatin                                       | Vinorelbine;Vinorelbine;Vinorelbine                         |\n",
       "| 74 | 4  | Adjuvant    | Platinum chemo              | Cisplatin;Carboplatin;Carboplatin;Carboplatin                           | Vinorelbine;Vinorelbine;Vinorelbine;Vinorelbine             |\n",
       "| 75 | 4  | Adjuvant    | Platinum chemo              | Cisplatin;Cisplatin;Cisplatin;Cisplatin                                 | Pemetrexed;Pemetrexed;Pemetrexed;Pemetrexed                 |\n",
       "| 76 | 6  | Adjuvant    | Platinum chemo              | Carboplatin;Carboplatin;Carboplatin;Carboplatin;Carboplatin;Carboplatin | Etoposide;Etoposide;Etoposide;Etoposide;Etoposide;Etoposide |\n",
       "| 91 | 1  | Adjuvant    | Platinum chemo              | Carboplatin                                                             | Vinorelbine                                                 |\n",
       "| 111 | 4  | Adjuvant    | Platinum chemo/radiotherapy | Carboplatin;Carboplatin;Carboplatin;Carboplatin                         | Vinorelbine;Vinorelbine;Vinorelbine;Vinorelbine             |\n",
       "| 132 | 2  | Adjuvant    | Platinum chemo/radiotherapy | Cisplatin;Cisplatin                                                     | Vinorelbine;Vinorelbine                                     |\n",
       "| 133 | 4  | Adjuvant    | Platinum chemo              | Carboplatin;Carboplatin;Carboplatin;Carboplatin                         | Etoposide;Etoposide;Etoposide;Etoposide                     |\n",
       "| 187 | 3  | Adjuvant    | Platinum chemo              | Carboplatin;Carboplatin;NA                                              | Pemetrexed;Pemetrexed;Docetaxel                             |\n",
       "| 210 | 4  | Adjuvant    | Platinum chemo              | Cisplatin;Cisplatin;Carboplatin;Carboplatin                             | Vinorelbine;Vinorelbine;Vinorelbine;Vinorelbine             |\n",
       "| 230 | NA | Adjuvant    | Platinum chemo              | NA                                                                      | NA                                                          |\n",
       "| 239 | 2  | Adjuvant    | Platinum chemo              | Carboplatin;Carboplatin                                                 | Vinorelbine;Vinorelbine                                     |\n",
       "| 244 | 4  | Adjuvant    | Platinum chemo/radiotherapy | Cisplatin;Cisplatin;Cisplatin;Cisplatin                                 | Vinorelbine;Vinorelbine;Vinorelbine;Vinorelbine             |\n",
       "| 245 | 3  | Adjuvant    | Platinum chemo              | Carboplatin;NA;NA                                                       | Vinorelbine;NA;NA                                           |\n",
       "| 279 | 4  | Adjuvant    | Platinum chemo              | Cisplatin;Cisplatin;Cisplatin;Carboplatin                               | Vinorelbine;Vinorelbine;Vinorelbine;Vinorelbine             |\n",
       "| 288 | 4  | Adjuvant    | Platinum chemo              | Cisplatin;Carboplatin;Carboplatin;Carboplatin                           | Etoposide;Etoposide;Etoposide;Etoposide                     |\n",
       "| 319 | 3  | Adjuvant    | Platinum chemo/radiotherapy | Carboplatin;Carboplatin;Carboplatin                                     | Vinorelbine;Vinorelbine;Vinorelbine                         |\n",
       "| 320 | 3  | Adjuvant    | Platinum chemo              | Cisplatin;Cisplatin;Carboplatin                                         | Vinorelbine;Vinorelbine;Vinorelbine                         |\n",
       "| 377 | 3  | Adjuvant    | Platinum chemo              | Carboplatin;Carboplatin;Carboplatin                                     | Vinorelbine;Vinorelbine;Vinorelbine                         |\n",
       "| 403 | 1  | Adjuvant    | Platinum chemo/radiotherapy | Cisplatin                                                               | Vinorelbine                                                 |\n",
       "| 407 | 1  | Adjuvant    | Platinum chemo              | Cisplatin                                                               | Pemetrexed                                                  |\n",
       "\n"
      ],
      "text/plain": [
       "    num_cycle_na.added adjuvant_treatment_YN adjuvant_treatment_given   \n",
       "1   0                  No adjuvant           NA                         \n",
       "3   4                  Adjuvant              Platinum chemo             \n",
       "4   3                  Adjuvant              Platinum chemo             \n",
       "7   1                  Adjuvant              Platinum chemo             \n",
       "11  2                  Adjuvant              Platinum chemo             \n",
       "27  4                  Adjuvant              Platinum chemo             \n",
       "30  0                  Adjuvant              Radiotherapy               \n",
       "57  5                  Adjuvant              Platinum chemo             \n",
       "58  4                  Adjuvant              Platinum chemo/radiotherapy\n",
       "66  2                  Adjuvant              Platinum chemo             \n",
       "67  4                  Adjuvant              Platinum chemo             \n",
       "73  3                  Adjuvant              Platinum chemo             \n",
       "74  4                  Adjuvant              Platinum chemo             \n",
       "75  4                  Adjuvant              Platinum chemo             \n",
       "76  6                  Adjuvant              Platinum chemo             \n",
       "91  1                  Adjuvant              Platinum chemo             \n",
       "111 4                  Adjuvant              Platinum chemo/radiotherapy\n",
       "132 2                  Adjuvant              Platinum chemo/radiotherapy\n",
       "133 4                  Adjuvant              Platinum chemo             \n",
       "187 3                  Adjuvant              Platinum chemo             \n",
       "210 4                  Adjuvant              Platinum chemo             \n",
       "230 NA                 Adjuvant              Platinum chemo             \n",
       "239 2                  Adjuvant              Platinum chemo             \n",
       "244 4                  Adjuvant              Platinum chemo/radiotherapy\n",
       "245 3                  Adjuvant              Platinum chemo             \n",
       "279 4                  Adjuvant              Platinum chemo             \n",
       "288 4                  Adjuvant              Platinum chemo             \n",
       "319 3                  Adjuvant              Platinum chemo/radiotherapy\n",
       "320 3                  Adjuvant              Platinum chemo             \n",
       "377 3                  Adjuvant              Platinum chemo             \n",
       "403 1                  Adjuvant              Platinum chemo/radiotherapy\n",
       "407 1                  Adjuvant              Platinum chemo             \n",
       "    CHMPlatDgName_cleaned                                                  \n",
       "1   NA                                                                     \n",
       "3   Cisplatin;Cisplatin;Cisplatin;Cisplatin                                \n",
       "4   Cisplatin;Cisplatin;Cisplatin                                          \n",
       "7   Cisplatin                                                              \n",
       "11  Cisplatin;Carboplatin                                                  \n",
       "27  Carboplatin;Carboplatin;Carboplatin;Carboplatin                        \n",
       "30  NA                                                                     \n",
       "57  Cisplatin;Carboplatin;Carboplatin;Carboplatin;Carboplatin              \n",
       "58  Cisplatin;Cisplatin;Carboplatin;Carboplatin                            \n",
       "66  Cisplatin;Cisplatin                                                    \n",
       "67  Carboplatin;Carboplatin;Carboplatin                                    \n",
       "73  Cisplatin;Carboplatin;Carboplatin                                      \n",
       "74  Cisplatin;Carboplatin;Carboplatin;Carboplatin                          \n",
       "75  Cisplatin;Cisplatin;Cisplatin;Cisplatin                                \n",
       "76  Carboplatin;Carboplatin;Carboplatin;Carboplatin;Carboplatin;Carboplatin\n",
       "91  Carboplatin                                                            \n",
       "111 Carboplatin;Carboplatin;Carboplatin;Carboplatin                        \n",
       "132 Cisplatin;Cisplatin                                                    \n",
       "133 Carboplatin;Carboplatin;Carboplatin;Carboplatin                        \n",
       "187 Carboplatin;Carboplatin;NA                                             \n",
       "210 Cisplatin;Cisplatin;Carboplatin;Carboplatin                            \n",
       "230 NA                                                                     \n",
       "239 Carboplatin;Carboplatin                                                \n",
       "244 Cisplatin;Cisplatin;Cisplatin;Cisplatin                                \n",
       "245 Carboplatin;NA;NA                                                      \n",
       "279 Cisplatin;Cisplatin;Cisplatin;Carboplatin                              \n",
       "288 Cisplatin;Carboplatin;Carboplatin;Carboplatin                          \n",
       "319 Carboplatin;Carboplatin;Carboplatin                                    \n",
       "320 Cisplatin;Cisplatin;Carboplatin                                        \n",
       "377 Carboplatin;Carboplatin;Carboplatin                                    \n",
       "403 Cisplatin                                                              \n",
       "407 Cisplatin                                                              \n",
       "    CHMOthDgName_cleaned                                       \n",
       "1   NA                                                         \n",
       "3   Vinorelbine;Vinorelbine;Vinorelbine;Vinorelbine            \n",
       "4   Vinorelbine;Vinorelbine;Vinorelbine                        \n",
       "7   Vinorelbine                                                \n",
       "11  Vinorelbine;Vinorelbine                                    \n",
       "27  Vinorelbine;Vinorelbine;Vinorelbine;Vinorelbine            \n",
       "30  NA                                                         \n",
       "57  Vinorelbine;Pemetrexed;Pemetrexed;Pemetrexed;Pemetrexed    \n",
       "58  Vinorelbine;Vinorelbine;Vinorelbine;Vinorelbine            \n",
       "66  Vinorelbine;Vinorelbine                                    \n",
       "67  Vinorelbine;Vinorelbine;Vinorelbine                        \n",
       "73  Vinorelbine;Vinorelbine;Vinorelbine                        \n",
       "74  Vinorelbine;Vinorelbine;Vinorelbine;Vinorelbine            \n",
       "75  Pemetrexed;Pemetrexed;Pemetrexed;Pemetrexed                \n",
       "76  Etoposide;Etoposide;Etoposide;Etoposide;Etoposide;Etoposide\n",
       "91  Vinorelbine                                                \n",
       "111 Vinorelbine;Vinorelbine;Vinorelbine;Vinorelbine            \n",
       "132 Vinorelbine;Vinorelbine                                    \n",
       "133 Etoposide;Etoposide;Etoposide;Etoposide                    \n",
       "187 Pemetrexed;Pemetrexed;Docetaxel                            \n",
       "210 Vinorelbine;Vinorelbine;Vinorelbine;Vinorelbine            \n",
       "230 NA                                                         \n",
       "239 Vinorelbine;Vinorelbine                                    \n",
       "244 Vinorelbine;Vinorelbine;Vinorelbine;Vinorelbine            \n",
       "245 Vinorelbine;NA;NA                                          \n",
       "279 Vinorelbine;Vinorelbine;Vinorelbine;Vinorelbine            \n",
       "288 Etoposide;Etoposide;Etoposide;Etoposide                    \n",
       "319 Vinorelbine;Vinorelbine;Vinorelbine                        \n",
       "320 Vinorelbine;Vinorelbine;Vinorelbine                        \n",
       "377 Vinorelbine;Vinorelbine;Vinorelbine                        \n",
       "403 Vinorelbine                                                \n",
       "407 Pemetrexed                                                 "
      ]
     },
     "metadata": {},
     "output_type": "display_data"
    }
   ],
   "source": [
    "patients_df %>% select(num_cycle_na.added, adjuvant_treatment_YN, adjuvant_treatment_given, CHMPlatDgName_cleaned, CHMOthDgName_cleaned) %>% unique"
   ]
  },
  {
   "cell_type": "markdown",
   "metadata": {},
   "source": [
    "* `AdjRadStartTime_manual` : time when adjuvant radiotherapy started (when applicable)\n",
    "* `AdjRadEndTime_manual` : end timepoint of the adjuvant radiotherapy (when applicable)"
   ]
  },
  {
   "cell_type": "code",
   "execution_count": 87,
   "metadata": {
    "vscode": {
     "languageId": "r"
    }
   },
   "outputs": [
    {
     "data": {
      "text/html": [
       "<style>\n",
       ".list-inline {list-style: none; margin:0; padding: 0}\n",
       ".list-inline>li {display: inline-block}\n",
       ".list-inline>li:not(:last-child)::after {content: \"\\00b7\"; padding: 0 .5ex}\n",
       "</style>\n",
       "<ol class=list-inline><li>&lt;NA&gt;</li><li>61</li><li>107</li><li>154</li><li>34</li><li>88</li><li>135</li><li>124</li><li>130</li><li>237</li><li>42</li><li>125</li><li>69</li><li>147</li><li>64</li></ol>\n"
      ],
      "text/latex": [
       "\\begin{enumerate*}\n",
       "\\item <NA>\n",
       "\\item 61\n",
       "\\item 107\n",
       "\\item 154\n",
       "\\item 34\n",
       "\\item 88\n",
       "\\item 135\n",
       "\\item 124\n",
       "\\item 130\n",
       "\\item 237\n",
       "\\item 42\n",
       "\\item 125\n",
       "\\item 69\n",
       "\\item 147\n",
       "\\item 64\n",
       "\\end{enumerate*}\n"
      ],
      "text/markdown": [
       "1. &lt;NA&gt;\n",
       "2. 61\n",
       "3. 107\n",
       "4. 154\n",
       "5. 34\n",
       "6. 88\n",
       "7. 135\n",
       "8. 124\n",
       "9. 130\n",
       "10. 237\n",
       "11. 42\n",
       "12. 125\n",
       "13. 69\n",
       "14. 147\n",
       "15. 64\n",
       "\n",
       "\n"
      ],
      "text/plain": [
       " [1]  NA  61 107 154  34  88 135 124 130 237  42 125  69 147  64"
      ]
     },
     "metadata": {},
     "output_type": "display_data"
    },
    {
     "data": {
      "text/html": [
       "<table class=\"dataframe\">\n",
       "<caption>A data.frame: 23 × 4</caption>\n",
       "<thead>\n",
       "\t<tr><th></th><th scope=col>num_cycle_na.added</th><th scope=col>adjuvant_treatment_YN</th><th scope=col>AdjRadStartTime_manual</th><th scope=col>AdjRadEndTime_manual</th></tr>\n",
       "\t<tr><th></th><th scope=col>&lt;chr&gt;</th><th scope=col>&lt;chr&gt;</th><th scope=col>&lt;dbl&gt;</th><th scope=col>&lt;dbl&gt;</th></tr>\n",
       "</thead>\n",
       "<tbody>\n",
       "\t<tr><th scope=row>1</th><td>0 </td><td>No adjuvant</td><td> NA</td><td> NA</td></tr>\n",
       "\t<tr><th scope=row>3</th><td>4 </td><td>Adjuvant   </td><td> NA</td><td> NA</td></tr>\n",
       "\t<tr><th scope=row>4</th><td>3 </td><td>Adjuvant   </td><td> NA</td><td> NA</td></tr>\n",
       "\t<tr><th scope=row>7</th><td>1 </td><td>Adjuvant   </td><td> NA</td><td> NA</td></tr>\n",
       "\t<tr><th scope=row>11</th><td>2 </td><td>Adjuvant   </td><td> NA</td><td> NA</td></tr>\n",
       "\t<tr><th scope=row>30</th><td>0 </td><td>Adjuvant   </td><td> 61</td><td> 86</td></tr>\n",
       "\t<tr><th scope=row>33</th><td>0 </td><td>Adjuvant   </td><td>107</td><td>128</td></tr>\n",
       "\t<tr><th scope=row>57</th><td>5 </td><td>Adjuvant   </td><td> NA</td><td> NA</td></tr>\n",
       "\t<tr><th scope=row>58</th><td>4 </td><td>Adjuvant   </td><td>154</td><td>195</td></tr>\n",
       "\t<tr><th scope=row>76</th><td>6 </td><td>Adjuvant   </td><td> NA</td><td> NA</td></tr>\n",
       "\t<tr><th scope=row>81</th><td>0 </td><td>Adjuvant   </td><td> 34</td><td> 36</td></tr>\n",
       "\t<tr><th scope=row>106</th><td>0 </td><td>Adjuvant   </td><td> 88</td><td>113</td></tr>\n",
       "\t<tr><th scope=row>111</th><td>4 </td><td>Adjuvant   </td><td>135</td><td>162</td></tr>\n",
       "\t<tr><th scope=row>132</th><td>2 </td><td>Adjuvant   </td><td>124</td><td>163</td></tr>\n",
       "\t<tr><th scope=row>218</th><td>0 </td><td>Adjuvant   </td><td>130</td><td>155</td></tr>\n",
       "\t<tr><th scope=row>230</th><td>NA</td><td>Adjuvant   </td><td> NA</td><td> NA</td></tr>\n",
       "\t<tr><th scope=row>244</th><td>4 </td><td>Adjuvant   </td><td>237</td><td>273</td></tr>\n",
       "\t<tr><th scope=row>319</th><td>3 </td><td>Adjuvant   </td><td> 42</td><td> 68</td></tr>\n",
       "\t<tr><th scope=row>320</th><td>3 </td><td>Adjuvant   </td><td>125</td><td>168</td></tr>\n",
       "\t<tr><th scope=row>321</th><td>4 </td><td>Adjuvant   </td><td>125</td><td>168</td></tr>\n",
       "\t<tr><th scope=row>388</th><td>0 </td><td>Adjuvant   </td><td> 69</td><td>109</td></tr>\n",
       "\t<tr><th scope=row>400</th><td>3 </td><td>Adjuvant   </td><td>147</td><td>191</td></tr>\n",
       "\t<tr><th scope=row>418</th><td>0 </td><td>Adjuvant   </td><td> 64</td><td> 91</td></tr>\n",
       "</tbody>\n",
       "</table>\n"
      ],
      "text/latex": [
       "A data.frame: 23 × 4\n",
       "\\begin{tabular}{r|llll}\n",
       "  & num\\_cycle\\_na.added & adjuvant\\_treatment\\_YN & AdjRadStartTime\\_manual & AdjRadEndTime\\_manual\\\\\n",
       "  & <chr> & <chr> & <dbl> & <dbl>\\\\\n",
       "\\hline\n",
       "\t1 & 0  & No adjuvant &  NA &  NA\\\\\n",
       "\t3 & 4  & Adjuvant    &  NA &  NA\\\\\n",
       "\t4 & 3  & Adjuvant    &  NA &  NA\\\\\n",
       "\t7 & 1  & Adjuvant    &  NA &  NA\\\\\n",
       "\t11 & 2  & Adjuvant    &  NA &  NA\\\\\n",
       "\t30 & 0  & Adjuvant    &  61 &  86\\\\\n",
       "\t33 & 0  & Adjuvant    & 107 & 128\\\\\n",
       "\t57 & 5  & Adjuvant    &  NA &  NA\\\\\n",
       "\t58 & 4  & Adjuvant    & 154 & 195\\\\\n",
       "\t76 & 6  & Adjuvant    &  NA &  NA\\\\\n",
       "\t81 & 0  & Adjuvant    &  34 &  36\\\\\n",
       "\t106 & 0  & Adjuvant    &  88 & 113\\\\\n",
       "\t111 & 4  & Adjuvant    & 135 & 162\\\\\n",
       "\t132 & 2  & Adjuvant    & 124 & 163\\\\\n",
       "\t218 & 0  & Adjuvant    & 130 & 155\\\\\n",
       "\t230 & NA & Adjuvant    &  NA &  NA\\\\\n",
       "\t244 & 4  & Adjuvant    & 237 & 273\\\\\n",
       "\t319 & 3  & Adjuvant    &  42 &  68\\\\\n",
       "\t320 & 3  & Adjuvant    & 125 & 168\\\\\n",
       "\t321 & 4  & Adjuvant    & 125 & 168\\\\\n",
       "\t388 & 0  & Adjuvant    &  69 & 109\\\\\n",
       "\t400 & 3  & Adjuvant    & 147 & 191\\\\\n",
       "\t418 & 0  & Adjuvant    &  64 &  91\\\\\n",
       "\\end{tabular}\n"
      ],
      "text/markdown": [
       "\n",
       "A data.frame: 23 × 4\n",
       "\n",
       "| <!--/--> | num_cycle_na.added &lt;chr&gt; | adjuvant_treatment_YN &lt;chr&gt; | AdjRadStartTime_manual &lt;dbl&gt; | AdjRadEndTime_manual &lt;dbl&gt; |\n",
       "|---|---|---|---|---|\n",
       "| 1 | 0  | No adjuvant |  NA |  NA |\n",
       "| 3 | 4  | Adjuvant    |  NA |  NA |\n",
       "| 4 | 3  | Adjuvant    |  NA |  NA |\n",
       "| 7 | 1  | Adjuvant    |  NA |  NA |\n",
       "| 11 | 2  | Adjuvant    |  NA |  NA |\n",
       "| 30 | 0  | Adjuvant    |  61 |  86 |\n",
       "| 33 | 0  | Adjuvant    | 107 | 128 |\n",
       "| 57 | 5  | Adjuvant    |  NA |  NA |\n",
       "| 58 | 4  | Adjuvant    | 154 | 195 |\n",
       "| 76 | 6  | Adjuvant    |  NA |  NA |\n",
       "| 81 | 0  | Adjuvant    |  34 |  36 |\n",
       "| 106 | 0  | Adjuvant    |  88 | 113 |\n",
       "| 111 | 4  | Adjuvant    | 135 | 162 |\n",
       "| 132 | 2  | Adjuvant    | 124 | 163 |\n",
       "| 218 | 0  | Adjuvant    | 130 | 155 |\n",
       "| 230 | NA | Adjuvant    |  NA |  NA |\n",
       "| 244 | 4  | Adjuvant    | 237 | 273 |\n",
       "| 319 | 3  | Adjuvant    |  42 |  68 |\n",
       "| 320 | 3  | Adjuvant    | 125 | 168 |\n",
       "| 321 | 4  | Adjuvant    | 125 | 168 |\n",
       "| 388 | 0  | Adjuvant    |  69 | 109 |\n",
       "| 400 | 3  | Adjuvant    | 147 | 191 |\n",
       "| 418 | 0  | Adjuvant    |  64 |  91 |\n",
       "\n"
      ],
      "text/plain": [
       "    num_cycle_na.added adjuvant_treatment_YN AdjRadStartTime_manual\n",
       "1   0                  No adjuvant            NA                   \n",
       "3   4                  Adjuvant               NA                   \n",
       "4   3                  Adjuvant               NA                   \n",
       "7   1                  Adjuvant               NA                   \n",
       "11  2                  Adjuvant               NA                   \n",
       "30  0                  Adjuvant               61                   \n",
       "33  0                  Adjuvant              107                   \n",
       "57  5                  Adjuvant               NA                   \n",
       "58  4                  Adjuvant              154                   \n",
       "76  6                  Adjuvant               NA                   \n",
       "81  0                  Adjuvant               34                   \n",
       "106 0                  Adjuvant               88                   \n",
       "111 4                  Adjuvant              135                   \n",
       "132 2                  Adjuvant              124                   \n",
       "218 0                  Adjuvant              130                   \n",
       "230 NA                 Adjuvant               NA                   \n",
       "244 4                  Adjuvant              237                   \n",
       "319 3                  Adjuvant               42                   \n",
       "320 3                  Adjuvant              125                   \n",
       "321 4                  Adjuvant              125                   \n",
       "388 0                  Adjuvant               69                   \n",
       "400 3                  Adjuvant              147                   \n",
       "418 0                  Adjuvant               64                   \n",
       "    AdjRadEndTime_manual\n",
       "1    NA                 \n",
       "3    NA                 \n",
       "4    NA                 \n",
       "7    NA                 \n",
       "11   NA                 \n",
       "30   86                 \n",
       "33  128                 \n",
       "57   NA                 \n",
       "58  195                 \n",
       "76   NA                 \n",
       "81   36                 \n",
       "106 113                 \n",
       "111 162                 \n",
       "132 163                 \n",
       "218 155                 \n",
       "230  NA                 \n",
       "244 273                 \n",
       "319  68                 \n",
       "320 168                 \n",
       "321 168                 \n",
       "388 109                 \n",
       "400 191                 \n",
       "418  91                 "
      ]
     },
     "metadata": {},
     "output_type": "display_data"
    }
   ],
   "source": [
    "unique(patients_df$AdjRadStartTime_manual)\n",
    "patients_df %>% select(num_cycle_na.added, adjuvant_treatment_YN, AdjRadStartTime_manual, AdjRadEndTime_manual) %>% unique"
   ]
  },
  {
   "cell_type": "code",
   "execution_count": 97,
   "metadata": {
    "vscode": {
     "languageId": "r"
    }
   },
   "outputs": [
    {
     "data": {
      "text/plain": [
       "\n",
       "new_primary  recurrence \n",
       "         41         142 "
      ]
     },
     "metadata": {},
     "output_type": "display_data"
    }
   ],
   "source": [
    "table(patients_df$first_dfs_any_event_rec.or.new.primary)"
   ]
  },
  {
   "cell_type": "code",
   "execution_count": 104,
   "metadata": {
    "vscode": {
     "languageId": "r"
    }
   },
   "outputs": [
    {
     "data": {
      "text/html": [
       "<table class=\"dataframe\">\n",
       "<caption>A data.frame: 177 × 4</caption>\n",
       "<thead>\n",
       "\t<tr><th></th><th scope=col>Recurrence_time_use</th><th scope=col>newPrim_time_use</th><th scope=col>first_dfs_any_event_rec.or.new.primary</th><th scope=col>first_event_during_followup</th></tr>\n",
       "\t<tr><th></th><th scope=col>&lt;dbl&gt;</th><th scope=col>&lt;int&gt;</th><th scope=col>&lt;chr&gt;</th><th scope=col>&lt;chr&gt;</th></tr>\n",
       "</thead>\n",
       "<tbody>\n",
       "\t<tr><th scope=row>1</th><td>  NA</td><td>  NA</td><td>NA         </td><td>NA         </td></tr>\n",
       "\t<tr><th scope=row>2</th><td>  NA</td><td>  NA</td><td>NA         </td><td>Death      </td></tr>\n",
       "\t<tr><th scope=row>3</th><td>  NA</td><td>1935</td><td>new_primary</td><td>new_primary</td></tr>\n",
       "\t<tr><th scope=row>4</th><td>1143</td><td>  NA</td><td>recurrence </td><td>recurrence </td></tr>\n",
       "\t<tr><th scope=row>5</th><td> 917</td><td>  NA</td><td>recurrence </td><td>recurrence </td></tr>\n",
       "\t<tr><th scope=row>7</th><td> 456</td><td>  NA</td><td>recurrence </td><td>recurrence </td></tr>\n",
       "\t<tr><th scope=row>9</th><td>  NA</td><td> 492</td><td>new_primary</td><td>new_primary</td></tr>\n",
       "\t<tr><th scope=row>10</th><td>  NA</td><td>1419</td><td>new_primary</td><td>new_primary</td></tr>\n",
       "\t<tr><th scope=row>13</th><td> 108</td><td>  NA</td><td>recurrence </td><td>recurrence </td></tr>\n",
       "\t<tr><th scope=row>16</th><td> 150</td><td>  NA</td><td>recurrence </td><td>recurrence </td></tr>\n",
       "\t<tr><th scope=row>21</th><td> 265</td><td>  NA</td><td>recurrence </td><td>recurrence </td></tr>\n",
       "\t<tr><th scope=row>22</th><td>  NA</td><td>1093</td><td>new_primary</td><td>new_primary</td></tr>\n",
       "\t<tr><th scope=row>23</th><td>  NA</td><td> 532</td><td>new_primary</td><td>new_primary</td></tr>\n",
       "\t<tr><th scope=row>24</th><td> 325</td><td>  NA</td><td>recurrence </td><td>recurrence </td></tr>\n",
       "\t<tr><th scope=row>26</th><td>1268</td><td>  NA</td><td>recurrence </td><td>recurrence </td></tr>\n",
       "\t<tr><th scope=row>27</th><td> 217</td><td>  NA</td><td>recurrence </td><td>recurrence </td></tr>\n",
       "\t<tr><th scope=row>29</th><td> 935</td><td>  NA</td><td>recurrence </td><td>recurrence </td></tr>\n",
       "\t<tr><th scope=row>31</th><td>  NA</td><td> 671</td><td>new_primary</td><td>new_primary</td></tr>\n",
       "\t<tr><th scope=row>35</th><td> 256</td><td>  NA</td><td>recurrence </td><td>recurrence </td></tr>\n",
       "\t<tr><th scope=row>36</th><td> 377</td><td>  NA</td><td>recurrence </td><td>recurrence </td></tr>\n",
       "\t<tr><th scope=row>40</th><td>  NA</td><td>1043</td><td>new_primary</td><td>new_primary</td></tr>\n",
       "\t<tr><th scope=row>41</th><td> 537</td><td>  NA</td><td>recurrence </td><td>recurrence </td></tr>\n",
       "\t<tr><th scope=row>43</th><td> 582</td><td>  NA</td><td>recurrence </td><td>recurrence </td></tr>\n",
       "\t<tr><th scope=row>46</th><td> 734</td><td>  NA</td><td>recurrence </td><td>recurrence </td></tr>\n",
       "\t<tr><th scope=row>51</th><td>  NA</td><td>1396</td><td>new_primary</td><td>new_primary</td></tr>\n",
       "\t<tr><th scope=row>55</th><td>  54</td><td>  NA</td><td>recurrence </td><td>recurrence </td></tr>\n",
       "\t<tr><th scope=row>57</th><td> 316</td><td>  NA</td><td>recurrence </td><td>recurrence </td></tr>\n",
       "\t<tr><th scope=row>58</th><td> 392</td><td>  NA</td><td>recurrence </td><td>recurrence </td></tr>\n",
       "\t<tr><th scope=row>60</th><td> 194</td><td>  NA</td><td>recurrence </td><td>recurrence </td></tr>\n",
       "\t<tr><th scope=row>61</th><td> 504</td><td>  NA</td><td>recurrence </td><td>recurrence </td></tr>\n",
       "\t<tr><th scope=row>⋮</th><td>⋮</td><td>⋮</td><td>⋮</td><td>⋮</td></tr>\n",
       "\t<tr><th scope=row>337</th><td> 305</td><td>  NA</td><td>recurrence </td><td>recurrence </td></tr>\n",
       "\t<tr><th scope=row>339</th><td>  NA</td><td>1127</td><td>new_primary</td><td>new_primary</td></tr>\n",
       "\t<tr><th scope=row>345</th><td> 315</td><td>  NA</td><td>recurrence </td><td>recurrence </td></tr>\n",
       "\t<tr><th scope=row>347</th><td>  NA</td><td> 480</td><td>new_primary</td><td>new_primary</td></tr>\n",
       "\t<tr><th scope=row>348</th><td>  NA</td><td> 667</td><td>new_primary</td><td>new_primary</td></tr>\n",
       "\t<tr><th scope=row>352</th><td> 932</td><td>  NA</td><td>recurrence </td><td>recurrence </td></tr>\n",
       "\t<tr><th scope=row>353</th><td>  91</td><td>  NA</td><td>recurrence </td><td>recurrence </td></tr>\n",
       "\t<tr><th scope=row>354</th><td>  NA</td><td> 576</td><td>new_primary</td><td>new_primary</td></tr>\n",
       "\t<tr><th scope=row>358</th><td> 288</td><td>  NA</td><td>recurrence </td><td>recurrence </td></tr>\n",
       "\t<tr><th scope=row>360</th><td> 430</td><td>  NA</td><td>recurrence </td><td>recurrence </td></tr>\n",
       "\t<tr><th scope=row>361</th><td>  NA</td><td>1060</td><td>new_primary</td><td>new_primary</td></tr>\n",
       "\t<tr><th scope=row>365</th><td>  NA</td><td> 519</td><td>new_primary</td><td>new_primary</td></tr>\n",
       "\t<tr><th scope=row>369</th><td>  NA</td><td> 282</td><td>new_primary</td><td>new_primary</td></tr>\n",
       "\t<tr><th scope=row>371</th><td> 146</td><td>  NA</td><td>recurrence </td><td>recurrence </td></tr>\n",
       "\t<tr><th scope=row>374</th><td>  NA</td><td>1182</td><td>new_primary</td><td>new_primary</td></tr>\n",
       "\t<tr><th scope=row>380</th><td> 378</td><td>  NA</td><td>recurrence </td><td>recurrence </td></tr>\n",
       "\t<tr><th scope=row>381</th><td> 207</td><td>  NA</td><td>recurrence </td><td>recurrence </td></tr>\n",
       "\t<tr><th scope=row>382</th><td>1004</td><td>  NA</td><td>recurrence </td><td>recurrence </td></tr>\n",
       "\t<tr><th scope=row>383</th><td>  15</td><td>  NA</td><td>recurrence </td><td>recurrence </td></tr>\n",
       "\t<tr><th scope=row>384</th><td>  50</td><td>  NA</td><td>recurrence </td><td>recurrence </td></tr>\n",
       "\t<tr><th scope=row>388</th><td> 778</td><td>  NA</td><td>recurrence </td><td>recurrence </td></tr>\n",
       "\t<tr><th scope=row>392</th><td> 347</td><td>  NA</td><td>recurrence </td><td>recurrence </td></tr>\n",
       "\t<tr><th scope=row>397</th><td> 271</td><td>  NA</td><td>recurrence </td><td>recurrence </td></tr>\n",
       "\t<tr><th scope=row>403</th><td> 226</td><td>  NA</td><td>recurrence </td><td>recurrence </td></tr>\n",
       "\t<tr><th scope=row>408</th><td> 148</td><td>  NA</td><td>recurrence </td><td>recurrence </td></tr>\n",
       "\t<tr><th scope=row>409</th><td> 127</td><td>  NA</td><td>recurrence </td><td>recurrence </td></tr>\n",
       "\t<tr><th scope=row>411</th><td>1447</td><td>  NA</td><td>recurrence </td><td>recurrence </td></tr>\n",
       "\t<tr><th scope=row>417</th><td> 883</td><td>  NA</td><td>recurrence </td><td>recurrence </td></tr>\n",
       "\t<tr><th scope=row>420</th><td> 197</td><td>  NA</td><td>recurrence </td><td>recurrence </td></tr>\n",
       "\t<tr><th scope=row>421</th><td> 748</td><td>  NA</td><td>recurrence </td><td>recurrence </td></tr>\n",
       "</tbody>\n",
       "</table>\n"
      ],
      "text/latex": [
       "A data.frame: 177 × 4\n",
       "\\begin{tabular}{r|llll}\n",
       "  & Recurrence\\_time\\_use & newPrim\\_time\\_use & first\\_dfs\\_any\\_event\\_rec.or.new.primary & first\\_event\\_during\\_followup\\\\\n",
       "  & <dbl> & <int> & <chr> & <chr>\\\\\n",
       "\\hline\n",
       "\t1 &   NA &   NA & NA          & NA         \\\\\n",
       "\t2 &   NA &   NA & NA          & Death      \\\\\n",
       "\t3 &   NA & 1935 & new\\_primary & new\\_primary\\\\\n",
       "\t4 & 1143 &   NA & recurrence  & recurrence \\\\\n",
       "\t5 &  917 &   NA & recurrence  & recurrence \\\\\n",
       "\t7 &  456 &   NA & recurrence  & recurrence \\\\\n",
       "\t9 &   NA &  492 & new\\_primary & new\\_primary\\\\\n",
       "\t10 &   NA & 1419 & new\\_primary & new\\_primary\\\\\n",
       "\t13 &  108 &   NA & recurrence  & recurrence \\\\\n",
       "\t16 &  150 &   NA & recurrence  & recurrence \\\\\n",
       "\t21 &  265 &   NA & recurrence  & recurrence \\\\\n",
       "\t22 &   NA & 1093 & new\\_primary & new\\_primary\\\\\n",
       "\t23 &   NA &  532 & new\\_primary & new\\_primary\\\\\n",
       "\t24 &  325 &   NA & recurrence  & recurrence \\\\\n",
       "\t26 & 1268 &   NA & recurrence  & recurrence \\\\\n",
       "\t27 &  217 &   NA & recurrence  & recurrence \\\\\n",
       "\t29 &  935 &   NA & recurrence  & recurrence \\\\\n",
       "\t31 &   NA &  671 & new\\_primary & new\\_primary\\\\\n",
       "\t35 &  256 &   NA & recurrence  & recurrence \\\\\n",
       "\t36 &  377 &   NA & recurrence  & recurrence \\\\\n",
       "\t40 &   NA & 1043 & new\\_primary & new\\_primary\\\\\n",
       "\t41 &  537 &   NA & recurrence  & recurrence \\\\\n",
       "\t43 &  582 &   NA & recurrence  & recurrence \\\\\n",
       "\t46 &  734 &   NA & recurrence  & recurrence \\\\\n",
       "\t51 &   NA & 1396 & new\\_primary & new\\_primary\\\\\n",
       "\t55 &   54 &   NA & recurrence  & recurrence \\\\\n",
       "\t57 &  316 &   NA & recurrence  & recurrence \\\\\n",
       "\t58 &  392 &   NA & recurrence  & recurrence \\\\\n",
       "\t60 &  194 &   NA & recurrence  & recurrence \\\\\n",
       "\t61 &  504 &   NA & recurrence  & recurrence \\\\\n",
       "\t⋮ & ⋮ & ⋮ & ⋮ & ⋮\\\\\n",
       "\t337 &  305 &   NA & recurrence  & recurrence \\\\\n",
       "\t339 &   NA & 1127 & new\\_primary & new\\_primary\\\\\n",
       "\t345 &  315 &   NA & recurrence  & recurrence \\\\\n",
       "\t347 &   NA &  480 & new\\_primary & new\\_primary\\\\\n",
       "\t348 &   NA &  667 & new\\_primary & new\\_primary\\\\\n",
       "\t352 &  932 &   NA & recurrence  & recurrence \\\\\n",
       "\t353 &   91 &   NA & recurrence  & recurrence \\\\\n",
       "\t354 &   NA &  576 & new\\_primary & new\\_primary\\\\\n",
       "\t358 &  288 &   NA & recurrence  & recurrence \\\\\n",
       "\t360 &  430 &   NA & recurrence  & recurrence \\\\\n",
       "\t361 &   NA & 1060 & new\\_primary & new\\_primary\\\\\n",
       "\t365 &   NA &  519 & new\\_primary & new\\_primary\\\\\n",
       "\t369 &   NA &  282 & new\\_primary & new\\_primary\\\\\n",
       "\t371 &  146 &   NA & recurrence  & recurrence \\\\\n",
       "\t374 &   NA & 1182 & new\\_primary & new\\_primary\\\\\n",
       "\t380 &  378 &   NA & recurrence  & recurrence \\\\\n",
       "\t381 &  207 &   NA & recurrence  & recurrence \\\\\n",
       "\t382 & 1004 &   NA & recurrence  & recurrence \\\\\n",
       "\t383 &   15 &   NA & recurrence  & recurrence \\\\\n",
       "\t384 &   50 &   NA & recurrence  & recurrence \\\\\n",
       "\t388 &  778 &   NA & recurrence  & recurrence \\\\\n",
       "\t392 &  347 &   NA & recurrence  & recurrence \\\\\n",
       "\t397 &  271 &   NA & recurrence  & recurrence \\\\\n",
       "\t403 &  226 &   NA & recurrence  & recurrence \\\\\n",
       "\t408 &  148 &   NA & recurrence  & recurrence \\\\\n",
       "\t409 &  127 &   NA & recurrence  & recurrence \\\\\n",
       "\t411 & 1447 &   NA & recurrence  & recurrence \\\\\n",
       "\t417 &  883 &   NA & recurrence  & recurrence \\\\\n",
       "\t420 &  197 &   NA & recurrence  & recurrence \\\\\n",
       "\t421 &  748 &   NA & recurrence  & recurrence \\\\\n",
       "\\end{tabular}\n"
      ],
      "text/markdown": [
       "\n",
       "A data.frame: 177 × 4\n",
       "\n",
       "| <!--/--> | Recurrence_time_use &lt;dbl&gt; | newPrim_time_use &lt;int&gt; | first_dfs_any_event_rec.or.new.primary &lt;chr&gt; | first_event_during_followup &lt;chr&gt; |\n",
       "|---|---|---|---|---|\n",
       "| 1 |   NA |   NA | NA          | NA          |\n",
       "| 2 |   NA |   NA | NA          | Death       |\n",
       "| 3 |   NA | 1935 | new_primary | new_primary |\n",
       "| 4 | 1143 |   NA | recurrence  | recurrence  |\n",
       "| 5 |  917 |   NA | recurrence  | recurrence  |\n",
       "| 7 |  456 |   NA | recurrence  | recurrence  |\n",
       "| 9 |   NA |  492 | new_primary | new_primary |\n",
       "| 10 |   NA | 1419 | new_primary | new_primary |\n",
       "| 13 |  108 |   NA | recurrence  | recurrence  |\n",
       "| 16 |  150 |   NA | recurrence  | recurrence  |\n",
       "| 21 |  265 |   NA | recurrence  | recurrence  |\n",
       "| 22 |   NA | 1093 | new_primary | new_primary |\n",
       "| 23 |   NA |  532 | new_primary | new_primary |\n",
       "| 24 |  325 |   NA | recurrence  | recurrence  |\n",
       "| 26 | 1268 |   NA | recurrence  | recurrence  |\n",
       "| 27 |  217 |   NA | recurrence  | recurrence  |\n",
       "| 29 |  935 |   NA | recurrence  | recurrence  |\n",
       "| 31 |   NA |  671 | new_primary | new_primary |\n",
       "| 35 |  256 |   NA | recurrence  | recurrence  |\n",
       "| 36 |  377 |   NA | recurrence  | recurrence  |\n",
       "| 40 |   NA | 1043 | new_primary | new_primary |\n",
       "| 41 |  537 |   NA | recurrence  | recurrence  |\n",
       "| 43 |  582 |   NA | recurrence  | recurrence  |\n",
       "| 46 |  734 |   NA | recurrence  | recurrence  |\n",
       "| 51 |   NA | 1396 | new_primary | new_primary |\n",
       "| 55 |   54 |   NA | recurrence  | recurrence  |\n",
       "| 57 |  316 |   NA | recurrence  | recurrence  |\n",
       "| 58 |  392 |   NA | recurrence  | recurrence  |\n",
       "| 60 |  194 |   NA | recurrence  | recurrence  |\n",
       "| 61 |  504 |   NA | recurrence  | recurrence  |\n",
       "| ⋮ | ⋮ | ⋮ | ⋮ | ⋮ |\n",
       "| 337 |  305 |   NA | recurrence  | recurrence  |\n",
       "| 339 |   NA | 1127 | new_primary | new_primary |\n",
       "| 345 |  315 |   NA | recurrence  | recurrence  |\n",
       "| 347 |   NA |  480 | new_primary | new_primary |\n",
       "| 348 |   NA |  667 | new_primary | new_primary |\n",
       "| 352 |  932 |   NA | recurrence  | recurrence  |\n",
       "| 353 |   91 |   NA | recurrence  | recurrence  |\n",
       "| 354 |   NA |  576 | new_primary | new_primary |\n",
       "| 358 |  288 |   NA | recurrence  | recurrence  |\n",
       "| 360 |  430 |   NA | recurrence  | recurrence  |\n",
       "| 361 |   NA | 1060 | new_primary | new_primary |\n",
       "| 365 |   NA |  519 | new_primary | new_primary |\n",
       "| 369 |   NA |  282 | new_primary | new_primary |\n",
       "| 371 |  146 |   NA | recurrence  | recurrence  |\n",
       "| 374 |   NA | 1182 | new_primary | new_primary |\n",
       "| 380 |  378 |   NA | recurrence  | recurrence  |\n",
       "| 381 |  207 |   NA | recurrence  | recurrence  |\n",
       "| 382 | 1004 |   NA | recurrence  | recurrence  |\n",
       "| 383 |   15 |   NA | recurrence  | recurrence  |\n",
       "| 384 |   50 |   NA | recurrence  | recurrence  |\n",
       "| 388 |  778 |   NA | recurrence  | recurrence  |\n",
       "| 392 |  347 |   NA | recurrence  | recurrence  |\n",
       "| 397 |  271 |   NA | recurrence  | recurrence  |\n",
       "| 403 |  226 |   NA | recurrence  | recurrence  |\n",
       "| 408 |  148 |   NA | recurrence  | recurrence  |\n",
       "| 409 |  127 |   NA | recurrence  | recurrence  |\n",
       "| 411 | 1447 |   NA | recurrence  | recurrence  |\n",
       "| 417 |  883 |   NA | recurrence  | recurrence  |\n",
       "| 420 |  197 |   NA | recurrence  | recurrence  |\n",
       "| 421 |  748 |   NA | recurrence  | recurrence  |\n",
       "\n"
      ],
      "text/plain": [
       "    Recurrence_time_use newPrim_time_use first_dfs_any_event_rec.or.new.primary\n",
       "1     NA                  NA             NA                                    \n",
       "2     NA                  NA             NA                                    \n",
       "3     NA                1935             new_primary                           \n",
       "4   1143                  NA             recurrence                            \n",
       "5    917                  NA             recurrence                            \n",
       "7    456                  NA             recurrence                            \n",
       "9     NA                 492             new_primary                           \n",
       "10    NA                1419             new_primary                           \n",
       "13   108                  NA             recurrence                            \n",
       "16   150                  NA             recurrence                            \n",
       "21   265                  NA             recurrence                            \n",
       "22    NA                1093             new_primary                           \n",
       "23    NA                 532             new_primary                           \n",
       "24   325                  NA             recurrence                            \n",
       "26  1268                  NA             recurrence                            \n",
       "27   217                  NA             recurrence                            \n",
       "29   935                  NA             recurrence                            \n",
       "31    NA                 671             new_primary                           \n",
       "35   256                  NA             recurrence                            \n",
       "36   377                  NA             recurrence                            \n",
       "40    NA                1043             new_primary                           \n",
       "41   537                  NA             recurrence                            \n",
       "43   582                  NA             recurrence                            \n",
       "46   734                  NA             recurrence                            \n",
       "51    NA                1396             new_primary                           \n",
       "55    54                  NA             recurrence                            \n",
       "57   316                  NA             recurrence                            \n",
       "58   392                  NA             recurrence                            \n",
       "60   194                  NA             recurrence                            \n",
       "61   504                  NA             recurrence                            \n",
       "⋮   ⋮                   ⋮                ⋮                                     \n",
       "337  305                  NA             recurrence                            \n",
       "339   NA                1127             new_primary                           \n",
       "345  315                  NA             recurrence                            \n",
       "347   NA                 480             new_primary                           \n",
       "348   NA                 667             new_primary                           \n",
       "352  932                  NA             recurrence                            \n",
       "353   91                  NA             recurrence                            \n",
       "354   NA                 576             new_primary                           \n",
       "358  288                  NA             recurrence                            \n",
       "360  430                  NA             recurrence                            \n",
       "361   NA                1060             new_primary                           \n",
       "365   NA                 519             new_primary                           \n",
       "369   NA                 282             new_primary                           \n",
       "371  146                  NA             recurrence                            \n",
       "374   NA                1182             new_primary                           \n",
       "380  378                  NA             recurrence                            \n",
       "381  207                  NA             recurrence                            \n",
       "382 1004                  NA             recurrence                            \n",
       "383   15                  NA             recurrence                            \n",
       "384   50                  NA             recurrence                            \n",
       "388  778                  NA             recurrence                            \n",
       "392  347                  NA             recurrence                            \n",
       "397  271                  NA             recurrence                            \n",
       "403  226                  NA             recurrence                            \n",
       "408  148                  NA             recurrence                            \n",
       "409  127                  NA             recurrence                            \n",
       "411 1447                  NA             recurrence                            \n",
       "417  883                  NA             recurrence                            \n",
       "420  197                  NA             recurrence                            \n",
       "421  748                  NA             recurrence                            \n",
       "    first_event_during_followup\n",
       "1   NA                         \n",
       "2   Death                      \n",
       "3   new_primary                \n",
       "4   recurrence                 \n",
       "5   recurrence                 \n",
       "7   recurrence                 \n",
       "9   new_primary                \n",
       "10  new_primary                \n",
       "13  recurrence                 \n",
       "16  recurrence                 \n",
       "21  recurrence                 \n",
       "22  new_primary                \n",
       "23  new_primary                \n",
       "24  recurrence                 \n",
       "26  recurrence                 \n",
       "27  recurrence                 \n",
       "29  recurrence                 \n",
       "31  new_primary                \n",
       "35  recurrence                 \n",
       "36  recurrence                 \n",
       "40  new_primary                \n",
       "41  recurrence                 \n",
       "43  recurrence                 \n",
       "46  recurrence                 \n",
       "51  new_primary                \n",
       "55  recurrence                 \n",
       "57  recurrence                 \n",
       "58  recurrence                 \n",
       "60  recurrence                 \n",
       "61  recurrence                 \n",
       "⋮   ⋮                          \n",
       "337 recurrence                 \n",
       "339 new_primary                \n",
       "345 recurrence                 \n",
       "347 new_primary                \n",
       "348 new_primary                \n",
       "352 recurrence                 \n",
       "353 recurrence                 \n",
       "354 new_primary                \n",
       "358 recurrence                 \n",
       "360 recurrence                 \n",
       "361 new_primary                \n",
       "365 new_primary                \n",
       "369 new_primary                \n",
       "371 recurrence                 \n",
       "374 new_primary                \n",
       "380 recurrence                 \n",
       "381 recurrence                 \n",
       "382 recurrence                 \n",
       "383 recurrence                 \n",
       "384 recurrence                 \n",
       "388 recurrence                 \n",
       "392 recurrence                 \n",
       "397 recurrence                 \n",
       "403 recurrence                 \n",
       "408 recurrence                 \n",
       "409 recurrence                 \n",
       "411 recurrence                 \n",
       "417 recurrence                 \n",
       "420 recurrence                 \n",
       "421 recurrence                 "
      ]
     },
     "metadata": {},
     "output_type": "display_data"
    }
   ],
   "source": [
    "patients_df %>% \n",
    "\tselect(Recurrence_time_use, newPrim_time_use, first_dfs_any_event_rec.or.new.primary, first_event_during_followup) %>% \n",
    "\tunique"
   ]
  },
  {
   "cell_type": "markdown",
   "metadata": {},
   "source": [
    "\n",
    "* `Recurrence_time_use` : time when recurrence was confirmed\n",
    "* `newPrim_time_use` : time when a new primary tumour was detected.\n",
    "* `first_dfs_any_event_rec.or.new.primary` : whether this patient underwaent a recurrence event or developed a new primary tumour. There are 41 new primaries, and 5 of them developed a recurrence.\n",
    "* `first_event_during_followup` : one of 'Death', 'new_primary', 'recurrence' and 'recurrence (death)'. \n"
   ]
  },
  {
   "cell_type": "code",
   "execution_count": 112,
   "metadata": {
    "vscode": {
     "languageId": "r"
    }
   },
   "outputs": [
    {
     "data": {
      "text/html": [
       "<table class=\"dataframe\">\n",
       "<caption>A data.frame: 5 × 6</caption>\n",
       "<thead>\n",
       "\t<tr><th scope=col>tumour_id_per_patient</th><th scope=col>Recurrence_time_use</th><th scope=col>newPrim_time_use</th><th scope=col>first_dfs_any_event_rec.or.new.primary</th><th scope=col>first_event_during_followup</th><th scope=col>Relapse_cat</th></tr>\n",
       "\t<tr><th scope=col>&lt;chr&gt;</th><th scope=col>&lt;dbl&gt;</th><th scope=col>&lt;int&gt;</th><th scope=col>&lt;chr&gt;</th><th scope=col>&lt;chr&gt;</th><th scope=col>&lt;chr&gt;</th></tr>\n",
       "</thead>\n",
       "<tbody>\n",
       "\t<tr><td>CRUK0046</td><td> 840</td><td>840</td><td>new_primary</td><td>new_primary</td><td>Second primary lung </td></tr>\n",
       "\t<tr><td>CRUK0373</td><td>1031</td><td>881</td><td>new_primary</td><td>new_primary</td><td>Other second primary</td></tr>\n",
       "\t<tr><td>CRUK0428</td><td> 633</td><td>302</td><td>new_primary</td><td>new_primary</td><td>Second primary lung </td></tr>\n",
       "\t<tr><td>CRUK0512</td><td> 828</td><td>447</td><td>new_primary</td><td>new_primary</td><td>Second primary lung </td></tr>\n",
       "\t<tr><td>CRUK0511</td><td>1055</td><td>866</td><td>new_primary</td><td>new_primary</td><td>Other second primary</td></tr>\n",
       "</tbody>\n",
       "</table>\n"
      ],
      "text/latex": [
       "A data.frame: 5 × 6\n",
       "\\begin{tabular}{llllll}\n",
       " tumour\\_id\\_per\\_patient & Recurrence\\_time\\_use & newPrim\\_time\\_use & first\\_dfs\\_any\\_event\\_rec.or.new.primary & first\\_event\\_during\\_followup & Relapse\\_cat\\\\\n",
       " <chr> & <dbl> & <int> & <chr> & <chr> & <chr>\\\\\n",
       "\\hline\n",
       "\t CRUK0046 &  840 & 840 & new\\_primary & new\\_primary & Second primary lung \\\\\n",
       "\t CRUK0373 & 1031 & 881 & new\\_primary & new\\_primary & Other second primary\\\\\n",
       "\t CRUK0428 &  633 & 302 & new\\_primary & new\\_primary & Second primary lung \\\\\n",
       "\t CRUK0512 &  828 & 447 & new\\_primary & new\\_primary & Second primary lung \\\\\n",
       "\t CRUK0511 & 1055 & 866 & new\\_primary & new\\_primary & Other second primary\\\\\n",
       "\\end{tabular}\n"
      ],
      "text/markdown": [
       "\n",
       "A data.frame: 5 × 6\n",
       "\n",
       "| tumour_id_per_patient &lt;chr&gt; | Recurrence_time_use &lt;dbl&gt; | newPrim_time_use &lt;int&gt; | first_dfs_any_event_rec.or.new.primary &lt;chr&gt; | first_event_during_followup &lt;chr&gt; | Relapse_cat &lt;chr&gt; |\n",
       "|---|---|---|---|---|---|\n",
       "| CRUK0046 |  840 | 840 | new_primary | new_primary | Second primary lung  |\n",
       "| CRUK0373 | 1031 | 881 | new_primary | new_primary | Other second primary |\n",
       "| CRUK0428 |  633 | 302 | new_primary | new_primary | Second primary lung  |\n",
       "| CRUK0512 |  828 | 447 | new_primary | new_primary | Second primary lung  |\n",
       "| CRUK0511 | 1055 | 866 | new_primary | new_primary | Other second primary |\n",
       "\n"
      ],
      "text/plain": [
       "  tumour_id_per_patient Recurrence_time_use newPrim_time_use\n",
       "1 CRUK0046               840                840             \n",
       "2 CRUK0373              1031                881             \n",
       "3 CRUK0428               633                302             \n",
       "4 CRUK0512               828                447             \n",
       "5 CRUK0511              1055                866             \n",
       "  first_dfs_any_event_rec.or.new.primary first_event_during_followup\n",
       "1 new_primary                            new_primary                \n",
       "2 new_primary                            new_primary                \n",
       "3 new_primary                            new_primary                \n",
       "4 new_primary                            new_primary                \n",
       "5 new_primary                            new_primary                \n",
       "  Relapse_cat         \n",
       "1 Second primary lung \n",
       "2 Other second primary\n",
       "3 Second primary lung \n",
       "4 Second primary lung \n",
       "5 Other second primary"
      ]
     },
     "metadata": {},
     "output_type": "display_data"
    }
   ],
   "source": [
    "patients_df %>% \n",
    "\tfilter(!is.na(newPrim_time_use) & !is.na(Recurrence_time_use)) %>%\n",
    "\tselect(tumour_id_per_patient, Recurrence_time_use, newPrim_time_use, \n",
    "\t\t   first_dfs_any_event_rec.or.new.primary, first_event_during_followup, \n",
    "\t\t   Relapse_cat)"
   ]
  },
  {
   "cell_type": "markdown",
   "metadata": {},
   "source": [
    "* `cens_os`\n",
    "* `os_time`\n",
    "* `cens_dfs`\n",
    "* `dfs_time` : period from the date of registration to the time of radiological confirmation of the recurrence of the primary tumor\n",
    "registered for the TRACERx or the time of death by any cause.\n",
    "* `cens_dfs_any_event`\n",
    "* `dfs_time_any_event`\n",
    "* `cens_lung_event`\n",
    "* `lung_event_time`\n",
    "* `Relapse_cat`\n",
    "* `Relapse_cat_new`\n",
    "* `tx100`\n"
   ]
  },
  {
   "cell_type": "code",
   "execution_count": 118,
   "metadata": {
    "vscode": {
     "languageId": "r"
    }
   },
   "outputs": [
    {
     "data": {
      "text/html": [
       "<table class=\"dataframe\">\n",
       "<caption>A data.frame: 40 × 2</caption>\n",
       "<thead>\n",
       "\t<tr><th scope=col>dfs_time_any_event</th><th scope=col>dfs_time</th></tr>\n",
       "\t<tr><th scope=col>&lt;int&gt;</th><th scope=col>&lt;int&gt;</th></tr>\n",
       "</thead>\n",
       "<tbody>\n",
       "\t<tr><td>1935</td><td>2224</td></tr>\n",
       "\t<tr><td> 492</td><td> 510</td></tr>\n",
       "\t<tr><td>1419</td><td>1800</td></tr>\n",
       "\t<tr><td>1093</td><td>1337</td></tr>\n",
       "\t<tr><td> 532</td><td>1313</td></tr>\n",
       "\t<tr><td> 671</td><td>1846</td></tr>\n",
       "\t<tr><td>1043</td><td>1062</td></tr>\n",
       "\t<tr><td>1396</td><td>1934</td></tr>\n",
       "\t<tr><td>1906</td><td>2197</td></tr>\n",
       "\t<tr><td> 584</td><td>1287</td></tr>\n",
       "\t<tr><td>1370</td><td>1822</td></tr>\n",
       "\t<tr><td> 248</td><td> 380</td></tr>\n",
       "\t<tr><td>1408</td><td>2103</td></tr>\n",
       "\t<tr><td> 143</td><td>1609</td></tr>\n",
       "\t<tr><td>1805</td><td>2077</td></tr>\n",
       "\t<tr><td> 941</td><td>1224</td></tr>\n",
       "\t<tr><td> 783</td><td> 997</td></tr>\n",
       "\t<tr><td>1393</td><td>1835</td></tr>\n",
       "\t<tr><td> 881</td><td>1031</td></tr>\n",
       "\t<tr><td>1320</td><td>1455</td></tr>\n",
       "\t<tr><td> 302</td><td> 633</td></tr>\n",
       "\t<tr><td>1319</td><td>1638</td></tr>\n",
       "\t<tr><td> 473</td><td>1684</td></tr>\n",
       "\t<tr><td> 772</td><td>1862</td></tr>\n",
       "\t<tr><td>1157</td><td>1329</td></tr>\n",
       "\t<tr><td>1211</td><td>1550</td></tr>\n",
       "\t<tr><td> 878</td><td> 994</td></tr>\n",
       "\t<tr><td> 447</td><td> 828</td></tr>\n",
       "\t<tr><td>1170</td><td>1249</td></tr>\n",
       "\t<tr><td> 866</td><td>1055</td></tr>\n",
       "\t<tr><td>1659</td><td>1691</td></tr>\n",
       "\t<tr><td> 999</td><td>1329</td></tr>\n",
       "\t<tr><td>1127</td><td>1143</td></tr>\n",
       "\t<tr><td> 480</td><td> 922</td></tr>\n",
       "\t<tr><td> 667</td><td>1292</td></tr>\n",
       "\t<tr><td> 576</td><td>1412</td></tr>\n",
       "\t<tr><td>1060</td><td>1165</td></tr>\n",
       "\t<tr><td> 519</td><td>1524</td></tr>\n",
       "\t<tr><td> 282</td><td> 552</td></tr>\n",
       "\t<tr><td>1182</td><td>1232</td></tr>\n",
       "</tbody>\n",
       "</table>\n"
      ],
      "text/latex": [
       "A data.frame: 40 × 2\n",
       "\\begin{tabular}{ll}\n",
       " dfs\\_time\\_any\\_event & dfs\\_time\\\\\n",
       " <int> & <int>\\\\\n",
       "\\hline\n",
       "\t 1935 & 2224\\\\\n",
       "\t  492 &  510\\\\\n",
       "\t 1419 & 1800\\\\\n",
       "\t 1093 & 1337\\\\\n",
       "\t  532 & 1313\\\\\n",
       "\t  671 & 1846\\\\\n",
       "\t 1043 & 1062\\\\\n",
       "\t 1396 & 1934\\\\\n",
       "\t 1906 & 2197\\\\\n",
       "\t  584 & 1287\\\\\n",
       "\t 1370 & 1822\\\\\n",
       "\t  248 &  380\\\\\n",
       "\t 1408 & 2103\\\\\n",
       "\t  143 & 1609\\\\\n",
       "\t 1805 & 2077\\\\\n",
       "\t  941 & 1224\\\\\n",
       "\t  783 &  997\\\\\n",
       "\t 1393 & 1835\\\\\n",
       "\t  881 & 1031\\\\\n",
       "\t 1320 & 1455\\\\\n",
       "\t  302 &  633\\\\\n",
       "\t 1319 & 1638\\\\\n",
       "\t  473 & 1684\\\\\n",
       "\t  772 & 1862\\\\\n",
       "\t 1157 & 1329\\\\\n",
       "\t 1211 & 1550\\\\\n",
       "\t  878 &  994\\\\\n",
       "\t  447 &  828\\\\\n",
       "\t 1170 & 1249\\\\\n",
       "\t  866 & 1055\\\\\n",
       "\t 1659 & 1691\\\\\n",
       "\t  999 & 1329\\\\\n",
       "\t 1127 & 1143\\\\\n",
       "\t  480 &  922\\\\\n",
       "\t  667 & 1292\\\\\n",
       "\t  576 & 1412\\\\\n",
       "\t 1060 & 1165\\\\\n",
       "\t  519 & 1524\\\\\n",
       "\t  282 &  552\\\\\n",
       "\t 1182 & 1232\\\\\n",
       "\\end{tabular}\n"
      ],
      "text/markdown": [
       "\n",
       "A data.frame: 40 × 2\n",
       "\n",
       "| dfs_time_any_event &lt;int&gt; | dfs_time &lt;int&gt; |\n",
       "|---|---|\n",
       "| 1935 | 2224 |\n",
       "|  492 |  510 |\n",
       "| 1419 | 1800 |\n",
       "| 1093 | 1337 |\n",
       "|  532 | 1313 |\n",
       "|  671 | 1846 |\n",
       "| 1043 | 1062 |\n",
       "| 1396 | 1934 |\n",
       "| 1906 | 2197 |\n",
       "|  584 | 1287 |\n",
       "| 1370 | 1822 |\n",
       "|  248 |  380 |\n",
       "| 1408 | 2103 |\n",
       "|  143 | 1609 |\n",
       "| 1805 | 2077 |\n",
       "|  941 | 1224 |\n",
       "|  783 |  997 |\n",
       "| 1393 | 1835 |\n",
       "|  881 | 1031 |\n",
       "| 1320 | 1455 |\n",
       "|  302 |  633 |\n",
       "| 1319 | 1638 |\n",
       "|  473 | 1684 |\n",
       "|  772 | 1862 |\n",
       "| 1157 | 1329 |\n",
       "| 1211 | 1550 |\n",
       "|  878 |  994 |\n",
       "|  447 |  828 |\n",
       "| 1170 | 1249 |\n",
       "|  866 | 1055 |\n",
       "| 1659 | 1691 |\n",
       "|  999 | 1329 |\n",
       "| 1127 | 1143 |\n",
       "|  480 |  922 |\n",
       "|  667 | 1292 |\n",
       "|  576 | 1412 |\n",
       "| 1060 | 1165 |\n",
       "|  519 | 1524 |\n",
       "|  282 |  552 |\n",
       "| 1182 | 1232 |\n",
       "\n"
      ],
      "text/plain": [
       "   dfs_time_any_event dfs_time\n",
       "1  1935               2224    \n",
       "2   492                510    \n",
       "3  1419               1800    \n",
       "4  1093               1337    \n",
       "5   532               1313    \n",
       "6   671               1846    \n",
       "7  1043               1062    \n",
       "8  1396               1934    \n",
       "9  1906               2197    \n",
       "10  584               1287    \n",
       "11 1370               1822    \n",
       "12  248                380    \n",
       "13 1408               2103    \n",
       "14  143               1609    \n",
       "15 1805               2077    \n",
       "16  941               1224    \n",
       "17  783                997    \n",
       "18 1393               1835    \n",
       "19  881               1031    \n",
       "20 1320               1455    \n",
       "21  302                633    \n",
       "22 1319               1638    \n",
       "23  473               1684    \n",
       "24  772               1862    \n",
       "25 1157               1329    \n",
       "26 1211               1550    \n",
       "27  878                994    \n",
       "28  447                828    \n",
       "29 1170               1249    \n",
       "30  866               1055    \n",
       "31 1659               1691    \n",
       "32  999               1329    \n",
       "33 1127               1143    \n",
       "34  480                922    \n",
       "35  667               1292    \n",
       "36  576               1412    \n",
       "37 1060               1165    \n",
       "38  519               1524    \n",
       "39  282                552    \n",
       "40 1182               1232    "
      ]
     },
     "metadata": {},
     "output_type": "display_data"
    }
   ],
   "source": [
    "patients_df %>% select(dfs_time_any_event, dfs_time) %>% filter(dfs_time_any_event != dfs_time)"
   ]
  },
  {
   "cell_type": "markdown",
   "metadata": {},
   "source": []
  },
  {
   "cell_type": "markdown",
   "metadata": {},
   "source": []
  }
 ],
 "metadata": {
  "kernelspec": {
   "display_name": "R",
   "language": "R",
   "name": "ir"
  },
  "language_info": {
   "codemirror_mode": "r",
   "file_extension": ".r",
   "mimetype": "text/x-r-source",
   "name": "R",
   "pygments_lexer": "r",
   "version": "4.1.0"
  }
 },
 "nbformat": 4,
 "nbformat_minor": 2
}
